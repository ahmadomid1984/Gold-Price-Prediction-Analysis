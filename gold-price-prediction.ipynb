{
 "cells": [
  {
   "cell_type": "markdown",
   "id": "6f21086a",
   "metadata": {},
   "source": [
    "# Importing the Libraries"
   ]
  },
  {
   "cell_type": "code",
   "execution_count": 239,
   "id": "5fc2d8b9",
   "metadata": {
    "execution": {
     "iopub.execute_input": "2023-01-13T21:38:46.577807Z",
     "iopub.status.busy": "2023-01-13T21:38:46.577204Z",
     "iopub.status.idle": "2023-01-13T21:38:54.000496Z",
     "shell.execute_reply": "2023-01-13T21:38:53.999421Z"
    },
    "papermill": {
     "duration": 7.44769,
     "end_time": "2023-01-13T21:38:54.003817",
     "exception": false,
     "start_time": "2023-01-13T21:38:46.556127",
     "status": "completed"
    },
    "tags": []
   },
   "outputs": [],
   "source": [
    "import lightningchart as lc\n",
    "import random\n",
    "\n",
    "lc.set_license('my-license-key')\n",
    "\n",
    "import numpy as np\n",
    "import pandas as pd\n",
    "import time\n",
    "\n",
    "from sklearn.preprocessing import MinMaxScaler\n",
    "from sklearn.model_selection import train_test_split\n",
    "from sklearn.metrics import mean_absolute_percentage_error\n",
    "import tensorflow as tf\n",
    "from keras import Model\n",
    "from keras.layers import Input, Dense, Dropout\n",
    "from keras.layers import LSTM"
   ]
  },
  {
   "cell_type": "markdown",
   "id": "5b875a98",
   "metadata": {
    "papermill": {
     "duration": 0.018727,
     "end_time": "2023-01-13T21:38:54.042369",
     "exception": false,
     "start_time": "2023-01-13T21:38:54.023642",
     "status": "completed"
    },
    "tags": []
   },
   "source": [
    "# Reading the Dataset"
   ]
  },
  {
   "cell_type": "code",
   "execution_count": 240,
   "id": "a4b66d72",
   "metadata": {
    "execution": {
     "iopub.execute_input": "2023-01-13T21:38:54.084200Z",
     "iopub.status.busy": "2023-01-13T21:38:54.082725Z",
     "iopub.status.idle": "2023-01-13T21:38:54.111867Z",
     "shell.execute_reply": "2023-01-13T21:38:54.110928Z"
    },
    "papermill": {
     "duration": 0.052309,
     "end_time": "2023-01-13T21:38:54.114358",
     "exception": false,
     "start_time": "2023-01-13T21:38:54.062049",
     "status": "completed"
    },
    "tags": []
   },
   "outputs": [],
   "source": [
    "df = pd.read_csv('./gold_data.csv')"
   ]
  },
  {
   "cell_type": "markdown",
   "id": "c3e14b4d",
   "metadata": {
    "papermill": {
     "duration": 0.018645,
     "end_time": "2023-01-13T21:38:54.152384",
     "exception": false,
     "start_time": "2023-01-13T21:38:54.133739",
     "status": "completed"
    },
    "tags": []
   },
   "source": [
    "# Dataset Overview"
   ]
  },
  {
   "cell_type": "code",
   "execution_count": 241,
   "id": "5f758f97",
   "metadata": {
    "execution": {
     "iopub.execute_input": "2023-01-13T21:38:54.192666Z",
     "iopub.status.busy": "2023-01-13T21:38:54.192011Z",
     "iopub.status.idle": "2023-01-13T21:38:54.217121Z",
     "shell.execute_reply": "2023-01-13T21:38:54.216004Z"
    },
    "papermill": {
     "duration": 0.048071,
     "end_time": "2023-01-13T21:38:54.219630",
     "exception": false,
     "start_time": "2023-01-13T21:38:54.171559",
     "status": "completed"
    },
    "tags": []
   },
   "outputs": [
    {
     "data": {
      "text/html": [
       "<div>\n",
       "<style scoped>\n",
       "    .dataframe tbody tr th:only-of-type {\n",
       "        vertical-align: middle;\n",
       "    }\n",
       "\n",
       "    .dataframe tbody tr th {\n",
       "        vertical-align: top;\n",
       "    }\n",
       "\n",
       "    .dataframe thead th {\n",
       "        text-align: right;\n",
       "    }\n",
       "</style>\n",
       "<table border=\"1\" class=\"dataframe\">\n",
       "  <thead>\n",
       "    <tr style=\"text-align: right;\">\n",
       "      <th></th>\n",
       "      <th>Date</th>\n",
       "      <th>Price</th>\n",
       "      <th>Open</th>\n",
       "      <th>High</th>\n",
       "      <th>Low</th>\n",
       "      <th>Vol.</th>\n",
       "      <th>Change %</th>\n",
       "    </tr>\n",
       "  </thead>\n",
       "  <tbody>\n",
       "    <tr>\n",
       "      <th>0</th>\n",
       "      <td>12/30/2022</td>\n",
       "      <td>1,826.20</td>\n",
       "      <td>1,821.80</td>\n",
       "      <td>1,832.40</td>\n",
       "      <td>1,819.80</td>\n",
       "      <td>107.50K</td>\n",
       "      <td>0.01%</td>\n",
       "    </tr>\n",
       "    <tr>\n",
       "      <th>1</th>\n",
       "      <td>12/29/2022</td>\n",
       "      <td>1,826.00</td>\n",
       "      <td>1,812.30</td>\n",
       "      <td>1,827.30</td>\n",
       "      <td>1,811.20</td>\n",
       "      <td>105.99K</td>\n",
       "      <td>0.56%</td>\n",
       "    </tr>\n",
       "    <tr>\n",
       "      <th>2</th>\n",
       "      <td>12/28/2022</td>\n",
       "      <td>1,815.80</td>\n",
       "      <td>1,822.40</td>\n",
       "      <td>1,822.80</td>\n",
       "      <td>1,804.20</td>\n",
       "      <td>118.08K</td>\n",
       "      <td>-0.40%</td>\n",
       "    </tr>\n",
       "    <tr>\n",
       "      <th>3</th>\n",
       "      <td>12/27/2022</td>\n",
       "      <td>1,823.10</td>\n",
       "      <td>1,808.20</td>\n",
       "      <td>1,841.90</td>\n",
       "      <td>1,808.00</td>\n",
       "      <td>159.62K</td>\n",
       "      <td>0.74%</td>\n",
       "    </tr>\n",
       "    <tr>\n",
       "      <th>4</th>\n",
       "      <td>12/26/2022</td>\n",
       "      <td>1,809.70</td>\n",
       "      <td>1,805.80</td>\n",
       "      <td>1,811.95</td>\n",
       "      <td>1,805.55</td>\n",
       "      <td>NaN</td>\n",
       "      <td>0.30%</td>\n",
       "    </tr>\n",
       "    <tr>\n",
       "      <th>...</th>\n",
       "      <td>...</td>\n",
       "      <td>...</td>\n",
       "      <td>...</td>\n",
       "      <td>...</td>\n",
       "      <td>...</td>\n",
       "      <td>...</td>\n",
       "      <td>...</td>\n",
       "    </tr>\n",
       "    <tr>\n",
       "      <th>2578</th>\n",
       "      <td>01/08/2013</td>\n",
       "      <td>1,663.20</td>\n",
       "      <td>1,651.50</td>\n",
       "      <td>1,662.60</td>\n",
       "      <td>1,648.80</td>\n",
       "      <td>0.13K</td>\n",
       "      <td>0.97%</td>\n",
       "    </tr>\n",
       "    <tr>\n",
       "      <th>2579</th>\n",
       "      <td>01/07/2013</td>\n",
       "      <td>1,647.20</td>\n",
       "      <td>1,657.30</td>\n",
       "      <td>1,663.80</td>\n",
       "      <td>1,645.30</td>\n",
       "      <td>0.09K</td>\n",
       "      <td>-0.16%</td>\n",
       "    </tr>\n",
       "    <tr>\n",
       "      <th>2580</th>\n",
       "      <td>01/04/2013</td>\n",
       "      <td>1,649.90</td>\n",
       "      <td>1,664.40</td>\n",
       "      <td>1,664.40</td>\n",
       "      <td>1,630.00</td>\n",
       "      <td>0.31K</td>\n",
       "      <td>-1.53%</td>\n",
       "    </tr>\n",
       "    <tr>\n",
       "      <th>2581</th>\n",
       "      <td>01/03/2013</td>\n",
       "      <td>1,675.60</td>\n",
       "      <td>1,688.00</td>\n",
       "      <td>1,689.30</td>\n",
       "      <td>1,664.30</td>\n",
       "      <td>0.19K</td>\n",
       "      <td>-0.85%</td>\n",
       "    </tr>\n",
       "    <tr>\n",
       "      <th>2582</th>\n",
       "      <td>01/02/2013</td>\n",
       "      <td>1,689.90</td>\n",
       "      <td>1,675.80</td>\n",
       "      <td>1,695.00</td>\n",
       "      <td>1,672.10</td>\n",
       "      <td>0.06K</td>\n",
       "      <td>0.78%</td>\n",
       "    </tr>\n",
       "  </tbody>\n",
       "</table>\n",
       "<p>2583 rows × 7 columns</p>\n",
       "</div>"
      ],
      "text/plain": [
       "            Date     Price      Open      High       Low     Vol. Change %\n",
       "0     12/30/2022  1,826.20  1,821.80  1,832.40  1,819.80  107.50K    0.01%\n",
       "1     12/29/2022  1,826.00  1,812.30  1,827.30  1,811.20  105.99K    0.56%\n",
       "2     12/28/2022  1,815.80  1,822.40  1,822.80  1,804.20  118.08K   -0.40%\n",
       "3     12/27/2022  1,823.10  1,808.20  1,841.90  1,808.00  159.62K    0.74%\n",
       "4     12/26/2022  1,809.70  1,805.80  1,811.95  1,805.55      NaN    0.30%\n",
       "...          ...       ...       ...       ...       ...      ...      ...\n",
       "2578  01/08/2013  1,663.20  1,651.50  1,662.60  1,648.80    0.13K    0.97%\n",
       "2579  01/07/2013  1,647.20  1,657.30  1,663.80  1,645.30    0.09K   -0.16%\n",
       "2580  01/04/2013  1,649.90  1,664.40  1,664.40  1,630.00    0.31K   -1.53%\n",
       "2581  01/03/2013  1,675.60  1,688.00  1,689.30  1,664.30    0.19K   -0.85%\n",
       "2582  01/02/2013  1,689.90  1,675.80  1,695.00  1,672.10    0.06K    0.78%\n",
       "\n",
       "[2583 rows x 7 columns]"
      ]
     },
     "execution_count": 241,
     "metadata": {},
     "output_type": "execute_result"
    }
   ],
   "source": [
    "df"
   ]
  },
  {
   "cell_type": "markdown",
   "id": "0d1e06ba",
   "metadata": {
    "papermill": {
     "duration": 0.019133,
     "end_time": "2023-01-13T21:38:54.258415",
     "exception": false,
     "start_time": "2023-01-13T21:38:54.239282",
     "status": "completed"
    },
    "tags": []
   },
   "source": [
    "__As you can see, the data set includes daily gold price information including daily Open, High and Low prices and the final price of each day (Price) along with the volume of transactions and price changes in each day.__"
   ]
  },
  {
   "cell_type": "markdown",
   "id": "3af32c81",
   "metadata": {
    "papermill": {
     "duration": 0.019238,
     "end_time": "2023-01-13T21:38:54.297256",
     "exception": false,
     "start_time": "2023-01-13T21:38:54.278018",
     "status": "completed"
    },
    "tags": []
   },
   "source": [
    "__Dataset Basic Information:__"
   ]
  },
  {
   "cell_type": "code",
   "execution_count": 242,
   "id": "0efa0935",
   "metadata": {
    "execution": {
     "iopub.execute_input": "2023-01-13T21:38:54.338811Z",
     "iopub.status.busy": "2023-01-13T21:38:54.338377Z",
     "iopub.status.idle": "2023-01-13T21:38:54.365422Z",
     "shell.execute_reply": "2023-01-13T21:38:54.363487Z"
    },
    "papermill": {
     "duration": 0.050709,
     "end_time": "2023-01-13T21:38:54.368054",
     "exception": false,
     "start_time": "2023-01-13T21:38:54.317345",
     "status": "completed"
    },
    "scrolled": true,
    "tags": []
   },
   "outputs": [
    {
     "name": "stdout",
     "output_type": "stream",
     "text": [
      "<class 'pandas.core.frame.DataFrame'>\n",
      "RangeIndex: 2583 entries, 0 to 2582\n",
      "Data columns (total 7 columns):\n",
      " #   Column    Non-Null Count  Dtype \n",
      "---  ------    --------------  ----- \n",
      " 0   Date      2583 non-null   object\n",
      " 1   Price     2583 non-null   object\n",
      " 2   Open      2583 non-null   object\n",
      " 3   High      2583 non-null   object\n",
      " 4   Low       2583 non-null   object\n",
      " 5   Vol.      2578 non-null   object\n",
      " 6   Change %  2583 non-null   object\n",
      "dtypes: object(7)\n",
      "memory usage: 141.4+ KB\n"
     ]
    }
   ],
   "source": [
    "df.info()"
   ]
  },
  {
   "cell_type": "markdown",
   "id": "3d795275",
   "metadata": {
    "papermill": {
     "duration": 0.019268,
     "end_time": "2023-01-13T21:38:54.407136",
     "exception": false,
     "start_time": "2023-01-13T21:38:54.387868",
     "status": "completed"
    },
    "tags": []
   },
   "source": [
    "__All variables are stored as object.__"
   ]
  },
  {
   "cell_type": "markdown",
   "id": "1c278d5e",
   "metadata": {
    "papermill": {
     "duration": 0.019574,
     "end_time": "2023-01-13T21:38:54.446655",
     "exception": false,
     "start_time": "2023-01-13T21:38:54.427081",
     "status": "completed"
    },
    "tags": []
   },
   "source": [
    "# Data Preparation"
   ]
  },
  {
   "cell_type": "markdown",
   "id": "c1d225d0",
   "metadata": {
    "papermill": {
     "duration": 0.019766,
     "end_time": "2023-01-13T21:38:54.486659",
     "exception": false,
     "start_time": "2023-01-13T21:38:54.466893",
     "status": "completed"
    },
    "tags": []
   },
   "source": [
    "## Feature the Subset Selection\n",
    "__Since we will not use Vol. and Change % features to predict Price, we will drop these two features:__"
   ]
  },
  {
   "cell_type": "code",
   "execution_count": 243,
   "id": "cd8d671b",
   "metadata": {
    "execution": {
     "iopub.execute_input": "2023-01-13T21:38:54.529275Z",
     "iopub.status.busy": "2023-01-13T21:38:54.528449Z",
     "iopub.status.idle": "2023-01-13T21:38:54.535261Z",
     "shell.execute_reply": "2023-01-13T21:38:54.534240Z"
    },
    "papermill": {
     "duration": 0.030989,
     "end_time": "2023-01-13T21:38:54.537587",
     "exception": false,
     "start_time": "2023-01-13T21:38:54.506598",
     "status": "completed"
    },
    "tags": []
   },
   "outputs": [],
   "source": [
    "df.drop(['Vol.', 'Change %'], axis=1, inplace=True)"
   ]
  },
  {
   "cell_type": "markdown",
   "id": "512fc807",
   "metadata": {
    "papermill": {
     "duration": 0.01952,
     "end_time": "2023-01-13T21:38:54.576587",
     "exception": false,
     "start_time": "2023-01-13T21:38:54.557067",
     "status": "completed"
    },
    "tags": []
   },
   "source": [
    "## Transforming the Data"
   ]
  },
  {
   "cell_type": "markdown",
   "id": "bab0143a",
   "metadata": {
    "papermill": {
     "duration": 0.019645,
     "end_time": "2023-01-13T21:38:54.615954",
     "exception": false,
     "start_time": "2023-01-13T21:38:54.596309",
     "status": "completed"
    },
    "tags": []
   },
   "source": [
    "__Date feature is stored as object in the data frame. To increase the speed of calculations, we convert it's data type to datetime and then sort this feature in ascending order:__"
   ]
  },
  {
   "cell_type": "code",
   "execution_count": 244,
   "id": "ded06bb4",
   "metadata": {
    "execution": {
     "iopub.execute_input": "2023-01-13T21:38:54.657662Z",
     "iopub.status.busy": "2023-01-13T21:38:54.656847Z",
     "iopub.status.idle": "2023-01-13T21:38:54.669344Z",
     "shell.execute_reply": "2023-01-13T21:38:54.668143Z"
    },
    "papermill": {
     "duration": 0.036376,
     "end_time": "2023-01-13T21:38:54.672051",
     "exception": false,
     "start_time": "2023-01-13T21:38:54.635675",
     "status": "completed"
    },
    "tags": []
   },
   "outputs": [],
   "source": [
    "df['Date'] = pd.to_datetime(df['Date'])\n",
    "df.sort_values(by='Date', ascending=True, inplace=True)\n",
    "df.reset_index(drop=True, inplace=True)"
   ]
  },
  {
   "cell_type": "markdown",
   "id": "c2060013",
   "metadata": {
    "papermill": {
     "duration": 0.019516,
     "end_time": "2023-01-13T21:38:54.712047",
     "exception": false,
     "start_time": "2023-01-13T21:38:54.692531",
     "status": "completed"
    },
    "tags": []
   },
   "source": [
    "__The \" , \" sign is redundant in the dataset. First, we remove it from the entire dataset and then change the data type of the numerical variables to float:__"
   ]
  },
  {
   "cell_type": "code",
   "execution_count": 245,
   "id": "b084ae06",
   "metadata": {
    "execution": {
     "iopub.execute_input": "2023-01-13T21:38:54.753607Z",
     "iopub.status.busy": "2023-01-13T21:38:54.753200Z",
     "iopub.status.idle": "2023-01-13T21:38:54.800061Z",
     "shell.execute_reply": "2023-01-13T21:38:54.799139Z"
    },
    "papermill": {
     "duration": 0.070751,
     "end_time": "2023-01-13T21:38:54.802722",
     "exception": false,
     "start_time": "2023-01-13T21:38:54.731971",
     "status": "completed"
    },
    "tags": []
   },
   "outputs": [],
   "source": [
    "NumCols = df.columns.drop(['Date'])\n",
    "df[NumCols] = df[NumCols].replace({',': ''}, regex=True)\n",
    "df[NumCols] = df[NumCols].astype('float64')"
   ]
  },
  {
   "cell_type": "markdown",
   "id": "8637ed65",
   "metadata": {
    "papermill": {
     "duration": 0.019009,
     "end_time": "2023-01-13T21:38:54.841569",
     "exception": false,
     "start_time": "2023-01-13T21:38:54.822560",
     "status": "completed"
    },
    "tags": []
   },
   "source": [
    "__Result:__"
   ]
  },
  {
   "cell_type": "code",
   "execution_count": 246,
   "id": "a95251ba",
   "metadata": {
    "execution": {
     "iopub.execute_input": "2023-01-13T21:38:54.882540Z",
     "iopub.status.busy": "2023-01-13T21:38:54.882161Z",
     "iopub.status.idle": "2023-01-13T21:38:54.896165Z",
     "shell.execute_reply": "2023-01-13T21:38:54.895048Z"
    },
    "papermill": {
     "duration": 0.037343,
     "end_time": "2023-01-13T21:38:54.898515",
     "exception": false,
     "start_time": "2023-01-13T21:38:54.861172",
     "status": "completed"
    },
    "tags": []
   },
   "outputs": [
    {
     "data": {
      "text/html": [
       "<div>\n",
       "<style scoped>\n",
       "    .dataframe tbody tr th:only-of-type {\n",
       "        vertical-align: middle;\n",
       "    }\n",
       "\n",
       "    .dataframe tbody tr th {\n",
       "        vertical-align: top;\n",
       "    }\n",
       "\n",
       "    .dataframe thead th {\n",
       "        text-align: right;\n",
       "    }\n",
       "</style>\n",
       "<table border=\"1\" class=\"dataframe\">\n",
       "  <thead>\n",
       "    <tr style=\"text-align: right;\">\n",
       "      <th></th>\n",
       "      <th>Date</th>\n",
       "      <th>Price</th>\n",
       "      <th>Open</th>\n",
       "      <th>High</th>\n",
       "      <th>Low</th>\n",
       "    </tr>\n",
       "  </thead>\n",
       "  <tbody>\n",
       "    <tr>\n",
       "      <th>0</th>\n",
       "      <td>2013-01-02</td>\n",
       "      <td>1689.9</td>\n",
       "      <td>1675.8</td>\n",
       "      <td>1695.0</td>\n",
       "      <td>1672.1</td>\n",
       "    </tr>\n",
       "    <tr>\n",
       "      <th>1</th>\n",
       "      <td>2013-01-03</td>\n",
       "      <td>1675.6</td>\n",
       "      <td>1688.0</td>\n",
       "      <td>1689.3</td>\n",
       "      <td>1664.3</td>\n",
       "    </tr>\n",
       "    <tr>\n",
       "      <th>2</th>\n",
       "      <td>2013-01-04</td>\n",
       "      <td>1649.9</td>\n",
       "      <td>1664.4</td>\n",
       "      <td>1664.4</td>\n",
       "      <td>1630.0</td>\n",
       "    </tr>\n",
       "    <tr>\n",
       "      <th>3</th>\n",
       "      <td>2013-01-07</td>\n",
       "      <td>1647.2</td>\n",
       "      <td>1657.3</td>\n",
       "      <td>1663.8</td>\n",
       "      <td>1645.3</td>\n",
       "    </tr>\n",
       "    <tr>\n",
       "      <th>4</th>\n",
       "      <td>2013-01-08</td>\n",
       "      <td>1663.2</td>\n",
       "      <td>1651.5</td>\n",
       "      <td>1662.6</td>\n",
       "      <td>1648.8</td>\n",
       "    </tr>\n",
       "  </tbody>\n",
       "</table>\n",
       "</div>"
      ],
      "text/plain": [
       "        Date   Price    Open    High     Low\n",
       "0 2013-01-02  1689.9  1675.8  1695.0  1672.1\n",
       "1 2013-01-03  1675.6  1688.0  1689.3  1664.3\n",
       "2 2013-01-04  1649.9  1664.4  1664.4  1630.0\n",
       "3 2013-01-07  1647.2  1657.3  1663.8  1645.3\n",
       "4 2013-01-08  1663.2  1651.5  1662.6  1648.8"
      ]
     },
     "execution_count": 246,
     "metadata": {},
     "output_type": "execute_result"
    }
   ],
   "source": [
    "df.head()"
   ]
  },
  {
   "cell_type": "markdown",
   "id": "237f2a51",
   "metadata": {
    "papermill": {
     "duration": 0.018956,
     "end_time": "2023-01-13T21:38:54.937080",
     "exception": false,
     "start_time": "2023-01-13T21:38:54.918124",
     "status": "completed"
    },
    "tags": []
   },
   "source": [
    "## Checking Duplicates\n",
    "__There are no duplicate samples in Date feature:__"
   ]
  },
  {
   "cell_type": "code",
   "execution_count": 9,
   "id": "d3acda06",
   "metadata": {
    "execution": {
     "iopub.execute_input": "2023-01-13T21:38:54.978163Z",
     "iopub.status.busy": "2023-01-13T21:38:54.977755Z",
     "iopub.status.idle": "2023-01-13T21:38:54.987780Z",
     "shell.execute_reply": "2023-01-13T21:38:54.986778Z"
    },
    "papermill": {
     "duration": 0.033511,
     "end_time": "2023-01-13T21:38:54.990106",
     "exception": false,
     "start_time": "2023-01-13T21:38:54.956595",
     "status": "completed"
    },
    "tags": []
   },
   "outputs": [
    {
     "data": {
      "text/plain": [
       "0"
      ]
     },
     "execution_count": 9,
     "metadata": {},
     "output_type": "execute_result"
    }
   ],
   "source": [
    "df.duplicated().sum()"
   ]
  },
  {
   "cell_type": "markdown",
   "id": "0d71e381",
   "metadata": {
    "papermill": {
     "duration": 0.019381,
     "end_time": "2023-01-13T21:38:55.029363",
     "exception": false,
     "start_time": "2023-01-13T21:38:55.009982",
     "status": "completed"
    },
    "tags": []
   },
   "source": [
    "## Checking Missing Values\n",
    "__There are no missing values in the dataset:__"
   ]
  },
  {
   "cell_type": "code",
   "execution_count": 10,
   "id": "d5b15ecc",
   "metadata": {
    "execution": {
     "iopub.execute_input": "2023-01-13T21:38:55.070657Z",
     "iopub.status.busy": "2023-01-13T21:38:55.070279Z",
     "iopub.status.idle": "2023-01-13T21:38:55.079153Z",
     "shell.execute_reply": "2023-01-13T21:38:55.078173Z"
    },
    "papermill": {
     "duration": 0.032356,
     "end_time": "2023-01-13T21:38:55.081356",
     "exception": false,
     "start_time": "2023-01-13T21:38:55.049000",
     "status": "completed"
    },
    "tags": []
   },
   "outputs": [
    {
     "data": {
      "text/plain": [
       "0"
      ]
     },
     "execution_count": 10,
     "metadata": {},
     "output_type": "execute_result"
    }
   ],
   "source": [
    "df.isnull().sum().sum()"
   ]
  },
  {
   "cell_type": "markdown",
   "id": "13e7e035",
   "metadata": {
    "papermill": {
     "duration": 0.019621,
     "end_time": "2023-01-13T21:38:55.121038",
     "exception": false,
     "start_time": "2023-01-13T21:38:55.101417",
     "status": "completed"
    },
    "tags": []
   },
   "source": [
    "# Visualizing the Data Using LightningChart"
   ]
  },
  {
   "cell_type": "code",
   "execution_count": 290,
   "id": "cca9f0f5",
   "metadata": {
    "execution": {
     "iopub.execute_input": "2023-01-13T21:38:55.162578Z",
     "iopub.status.busy": "2023-01-13T21:38:55.162196Z",
     "iopub.status.idle": "2023-01-13T21:38:56.234045Z",
     "shell.execute_reply": "2023-01-13T21:38:56.233168Z"
    },
    "papermill": {
     "duration": 1.095617,
     "end_time": "2023-01-13T21:38:56.236445",
     "exception": false,
     "start_time": "2023-01-13T21:38:55.140828",
     "status": "completed"
    },
    "tags": []
   },
   "outputs": [
    {
     "data": {
      "text/html": [
       "\n",
       "        <iframe\n",
       "            width=\"100%\"\n",
       "            height=\"600\"\n",
       "            src=\"http://localhost:61276\"\n",
       "            frameborder=\"0\"\n",
       "            allowfullscreen\n",
       "            \n",
       "        ></iframe>\n",
       "        "
      ],
      "text/plain": [
       "<IPython.lib.display.IFrame at 0x256800c74d0>"
      ]
     },
     "execution_count": 290,
     "metadata": {},
     "output_type": "execute_result"
    },
    {
     "name": "stderr",
     "output_type": "stream",
     "text": [
      "127.0.0.1 - - [30/Jul/2024 10:13:16] \"GET / HTTP/1.1\" 200 -\n"
     ]
    }
   ],
   "source": [
    "# Using current time as origin to manage large timestamp values better\n",
    "time_origin = time.time() * 1000  # current time in milliseconds\n",
    "\n",
    "# Extracting x and y values\n",
    "x_values = (df['Date'].astype('int64') / 10**6 - time_origin).tolist()  # milliseconds since the epoch, adjusted by origin\n",
    "y_values = df['Price'].values.tolist()\n",
    "\n",
    "# Creating a chart\n",
    "chart = lc.ChartXY(\n",
    "    theme=lc.Themes.CyberSpace,\n",
    "    title='Gold Price History Data'\n",
    ")\n",
    "\n",
    "# Adding and configuring the x-axis for datetime display\n",
    "x_axis = chart.get_default_x_axis()\n",
    "x_axis.set_tick_strategy('DateTime', time_origin=time_origin)\n",
    "\n",
    "# Adding a line series\n",
    "series = chart.add_line_series()\n",
    "series.add(x=x_values, y=y_values)\n",
    "\n",
    "# Customizing axes titles\n",
    "x_axis.set_title('Date')\n",
    "chart.get_default_y_axis().set_title('Scaled Price')\n",
    "\n",
    "# Opening the chart\n",
    "chart.open()"
   ]
  },
  {
   "cell_type": "code",
   "execution_count": 289,
   "id": "86e34618",
   "metadata": {},
   "outputs": [
    {
     "data": {
      "text/html": [
       "\n",
       "        <iframe\n",
       "            width=\"100%\"\n",
       "            height=\"600\"\n",
       "            src=\"http://localhost:61254\"\n",
       "            frameborder=\"0\"\n",
       "            allowfullscreen\n",
       "            \n",
       "        ></iframe>\n",
       "        "
      ],
      "text/plain": [
       "<IPython.lib.display.IFrame at 0x256fff14950>"
      ]
     },
     "execution_count": 289,
     "metadata": {},
     "output_type": "execute_result"
    },
    {
     "name": "stderr",
     "output_type": "stream",
     "text": [
      "127.0.0.1 - - [30/Jul/2024 10:13:09] \"GET / HTTP/1.1\" 200 -\n"
     ]
    }
   ],
   "source": [
    "# Initialize a 2D chart\n",
    "chart = lc.ChartXY(\n",
    "    theme=lc.Themes.CyberSpace, \n",
    "    title='Gold Price Analysis'\n",
    "    )\n",
    "\n",
    "# Dispose the default x-axis and create a new one suited for datetime\n",
    "chart.get_default_x_axis().dispose()\n",
    "axis_x = chart.add_x_axis(axis_type='linear-highPrecision')\n",
    "axis_x.set_tick_strategy('DateTime')\n",
    "axis_x.set_interval(start=df['Date'].min().timestamp() * 1000, end=df['Date'].max().timestamp() * 1000)\n",
    "\n",
    "# Adding legend to the chart\n",
    "legend = chart.add_legend()\n",
    "\n",
    "# Add series for each stock parameter\n",
    "params = ['Price', 'Open', 'High', 'Low']\n",
    "for param in params:\n",
    "    series = chart.add_line_series()\n",
    "    series.set_line_thickness(1)\n",
    "    x_values = df['Date'].apply(lambda x: x.timestamp() * 1000).tolist()\n",
    "    y_values = df[param].tolist()\n",
    "    series.add(x_values, y_values)\n",
    "    # Hypothetical method to set series name\n",
    "    if hasattr(series, 'set_name'):\n",
    "        series.set_name(param)\n",
    "    legend.add(series)\n",
    "\n",
    "# Open the chart\n",
    "chart.open()\n"
   ]
  },
  {
   "cell_type": "code",
   "execution_count": 151,
   "id": "30907ed1",
   "metadata": {},
   "outputs": [
    {
     "data": {
      "text/html": [
       "\n",
       "        <iframe\n",
       "            width=\"100%\"\n",
       "            height=\"600\"\n",
       "            src=\"http://localhost:51848\"\n",
       "            frameborder=\"0\"\n",
       "            allowfullscreen\n",
       "            \n",
       "        ></iframe>\n",
       "        "
      ],
      "text/plain": [
       "<IPython.lib.display.IFrame at 0x256fdf2b410>"
      ]
     },
     "execution_count": 151,
     "metadata": {},
     "output_type": "execute_result"
    },
    {
     "name": "stderr",
     "output_type": "stream",
     "text": [
      "127.0.0.1 - - [26/Jul/2024 11:51:28] \"GET / HTTP/1.1\" 200 -\n"
     ]
    }
   ],
   "source": [
    "# Initialize chart\n",
    "chart = lc.ChartXY(\n",
    "    theme=lc.Themes.CyberSpace, \n",
    "    title='Open and Price Comparison'\n",
    "    )\n",
    "\n",
    "# Extract data\n",
    "x_values = df['Date'].apply(lambda x: x.timestamp() * 1000).tolist()\n",
    "open_prices = df['Open'].tolist()\n",
    "close_prices = df['Price'].tolist()\n",
    "\n",
    "# Prepare series data\n",
    "series_data = [open_prices, close_prices]\n",
    "legend_labels = ['Open', 'Price']\n",
    "\n",
    "# Add legend\n",
    "legend = chart.add_legend()\n",
    "\n",
    "# Add series\n",
    "for i, data in enumerate(series_data):\n",
    "    series = chart.add_area_series()\n",
    "    series.add(x_values, data)\n",
    "    series.set_name(legend_labels[i])\n",
    "    legend.add(series)\n",
    "\n",
    "# Axis configuration\n",
    "axis_x = chart.get_default_x_axis()\n",
    "axis_x.set_tick_strategy('DateTime')\n",
    "axis_x.set_interval(start=min(x_values), end=max(x_values))\n",
    "\n",
    "axis_y = chart.get_default_y_axis()\n",
    "max_y_value = max([max(data) for data in series_data if data])\n",
    "axis_y.set_interval(0, max_y_value + 10)\n",
    "\n",
    "# Display the chart\n",
    "chart.open()"
   ]
  },
  {
   "cell_type": "code",
   "execution_count": 214,
   "id": "523d293f",
   "metadata": {},
   "outputs": [
    {
     "data": {
      "text/html": [
       "\n",
       "        <iframe\n",
       "            width=\"100%\"\n",
       "            height=\"600\"\n",
       "            src=\"http://localhost:55747\"\n",
       "            frameborder=\"0\"\n",
       "            allowfullscreen\n",
       "            \n",
       "        ></iframe>\n",
       "        "
      ],
      "text/plain": [
       "<IPython.lib.display.IFrame at 0x256fddd45f0>"
      ]
     },
     "execution_count": 214,
     "metadata": {},
     "output_type": "execute_result"
    },
    {
     "name": "stderr",
     "output_type": "stream",
     "text": [
      "127.0.0.1 - - [26/Jul/2024 13:24:36] \"GET / HTTP/1.1\" 200 -\n"
     ]
    }
   ],
   "source": [
    "# High and Low prices comparison in 2022\n",
    "df['Date'] = pd.to_datetime(df['Date'])\n",
    "df['Year'] = df['Date'].dt.year\n",
    "df['Month'] = df['Date'].dt.month_name()\n",
    "\n",
    "# Filter data for the year 2022\n",
    "df_2022 = df[df['Year'] == 2022]\n",
    "\n",
    "# Group by Month and get max and min values for 2022\n",
    "monthly_stats = df_2022.groupby('Month').agg({\n",
    "    'High': 'max',\n",
    "    'Low': 'min'\n",
    "}).reset_index()\n",
    "\n",
    "\n",
    "# Initialize the bar chart with the title including the year range\n",
    "chart = lc.BarChart(\n",
    "    vertical=True,\n",
    "    theme=lc.Themes.CyberSpace,\n",
    "    title='High and Low Prices in 2022'\n",
    ")\n",
    "\n",
    "# Prepare data for the chart\n",
    "months = monthly_stats['Month'].tolist()\n",
    "high_prices = monthly_stats['High'].tolist()\n",
    "low_prices = monthly_stats['Low'].tolist()\n",
    "\n",
    "# Set grouped data\n",
    "chart.set_data_grouped(\n",
    "    months,\n",
    "    [\n",
    "        {'subCategory': 'High Price', 'values': high_prices},\n",
    "        {'subCategory': 'Low Price', 'values': low_prices}\n",
    "    ]\n",
    ")\n",
    "\n",
    "chart.set_sorting('descending')\n",
    "\n",
    "# Adding legend for High Price and Low Price\n",
    "legend = chart.add_legend()\n",
    "legend.add(chart)\n",
    "\n",
    "# Open the chart\n",
    "chart.open()\n"
   ]
  },
  {
   "cell_type": "code",
   "execution_count": 255,
   "id": "2002c270",
   "metadata": {},
   "outputs": [
    {
     "data": {
      "text/html": [
       "\n",
       "        <iframe\n",
       "            width=\"100%\"\n",
       "            height=\"600\"\n",
       "            src=\"http://localhost:57145\"\n",
       "            frameborder=\"0\"\n",
       "            allowfullscreen\n",
       "            \n",
       "        ></iframe>\n",
       "        "
      ],
      "text/plain": [
       "<IPython.lib.display.IFrame at 0x2568006c350>"
      ]
     },
     "execution_count": 255,
     "metadata": {},
     "output_type": "execute_result"
    },
    {
     "name": "stderr",
     "output_type": "stream",
     "text": [
      "127.0.0.1 - - [26/Jul/2024 13:51:21] \"GET / HTTP/1.1\" 200 -\n"
     ]
    }
   ],
   "source": [
    "\n",
    "df['Date'] = pd.to_datetime(df['Date'])\n",
    "df['Year'] = df['Date'].dt.year\n",
    "df['Month'] = df['Date'].dt.month_name()\n",
    "\n",
    "# Filter data for the years 2021 and 2022\n",
    "df_2022 = df[df['Year'] == 2022]\n",
    "\n",
    "monthly_stats_2022 = df_2022.groupby('Month').agg({\n",
    "    'High': 'max',\n",
    "    'Low': 'min'\n",
    "}).reset_index()\n",
    "\n",
    "# Define the correct order of months\n",
    "months_order = [\"January\", \"February\", \"March\", \"April\", \"May\", \"June\", \"July\", \"August\", \"September\", \"October\", \"November\", \"December\"]\n",
    "\n",
    "# Add a column to the DataFrames to use for sorting\n",
    "monthly_stats_2022['MonthOrder'] = monthly_stats_2022['Month'].apply(lambda x: months_order.index(x))\n",
    "\n",
    "# Sort the DataFrames based on the new column\n",
    "monthly_stats_2022.sort_values('MonthOrder', inplace=True)\n",
    "\n",
    "# Prepare data for the chart\n",
    "months = months_order  # Using the full ordered list of months\n",
    "high_prices_2022 = monthly_stats_2022['High'].tolist()\n",
    "low_prices_2022 = monthly_stats_2022['Low'].tolist()\n",
    "\n",
    "# Initialize the stacked bar chart with the title including the year range\n",
    "chart = lc.BarChart(\n",
    "    vertical=True,\n",
    "    theme=lc.Themes.CyberSpace,\n",
    "    title='High and Low Prices Comparison in 2022'\n",
    ")\n",
    "\n",
    "# Prepare the data for stacked bar chart\n",
    "chart.set_data_stacked(\n",
    "    months,\n",
    "    [\n",
    "        {'subCategory': '2022 High Price', 'values': high_prices_2022},\n",
    "        {'subCategory': '2022 Low Price', 'values': low_prices_2022},\n",
    "    ]\n",
    ")\n",
    "\n",
    "chart.set_sorting('descending')\n",
    "\n",
    "# Adding legend for better readability\n",
    "legend = chart.add_legend()\n",
    "legend.add(chart)\n",
    "\n",
    "# Open the chart\n",
    "chart.open()\n"
   ]
  },
  {
   "cell_type": "code",
   "execution_count": 256,
   "id": "9aabdd85",
   "metadata": {},
   "outputs": [
    {
     "data": {
      "text/html": [
       "\n",
       "        <iframe\n",
       "            width=\"100%\"\n",
       "            height=\"600\"\n",
       "            src=\"http://localhost:57185\"\n",
       "            frameborder=\"0\"\n",
       "            allowfullscreen\n",
       "            \n",
       "        ></iframe>\n",
       "        "
      ],
      "text/plain": [
       "<IPython.lib.display.IFrame at 0x25680b77320>"
      ]
     },
     "execution_count": 256,
     "metadata": {},
     "output_type": "execute_result"
    },
    {
     "name": "stderr",
     "output_type": "stream",
     "text": [
      "127.0.0.1 - - [26/Jul/2024 13:52:08] \"GET / HTTP/1.1\" 200 -\n"
     ]
    }
   ],
   "source": [
    "\n",
    "df['Date'] = pd.to_datetime(df['Date'])\n",
    "df['Year'] = df['Date'].dt.year\n",
    "df['Month'] = df['Date'].dt.month_name()\n",
    "\n",
    "# Filter data for the years 2021 and 2022\n",
    "df_2021 = df[df['Year'] == 2021]\n",
    "df_2022 = df[df['Year'] == 2022]\n",
    "\n",
    "# Group by Month and get max and min values for 2021 and 2022\n",
    "monthly_stats_2021 = df_2021.groupby('Month').agg({\n",
    "    'High': 'max',\n",
    "    'Low': 'min'\n",
    "}).reset_index()\n",
    "\n",
    "monthly_stats_2022 = df_2022.groupby('Month').agg({\n",
    "    'High': 'max',\n",
    "    'Low': 'min'\n",
    "}).reset_index()\n",
    "\n",
    "# Define the correct order of months\n",
    "months_order = [\"January\", \"February\", \"March\", \"April\", \"May\", \"June\", \"July\", \"August\", \"September\", \"October\", \"November\", \"December\"]\n",
    "\n",
    "# Add a column to the DataFrames to use for sorting\n",
    "monthly_stats_2021['MonthOrder'] = monthly_stats_2021['Month'].apply(lambda x: months_order.index(x))\n",
    "monthly_stats_2022['MonthOrder'] = monthly_stats_2022['Month'].apply(lambda x: months_order.index(x))\n",
    "\n",
    "# Sort the DataFrames based on the new column\n",
    "monthly_stats_2021.sort_values('MonthOrder', inplace=True)\n",
    "monthly_stats_2022.sort_values('MonthOrder', inplace=True)\n",
    "\n",
    "# Prepare data for the chart\n",
    "months = months_order  # Using the full ordered list of months\n",
    "high_prices_2021 = monthly_stats_2021['High'].tolist()\n",
    "low_prices_2021 = monthly_stats_2021['Low'].tolist()\n",
    "high_prices_2022 = monthly_stats_2022['High'].tolist()\n",
    "low_prices_2022 = monthly_stats_2022['Low'].tolist()\n",
    "\n",
    "# Initialize the bar chart with the title including the year range\n",
    "chart = lc.BarChart(\n",
    "    vertical=True,\n",
    "    theme=lc.Themes.CyberSpace,\n",
    "    title='High and Low Prices Comparison: 2021 vs 2022'\n",
    ")\n",
    "\n",
    "# Prepare the data for grouped bar chart\n",
    "chart.set_data_grouped(\n",
    "    months,\n",
    "    [\n",
    "        {'subCategory': '2021 High Price', 'values': high_prices_2021},\n",
    "        {'subCategory': '2021 Low Price', 'values': low_prices_2021},\n",
    "        {'subCategory': '2022 High Price', 'values': high_prices_2022},\n",
    "        {'subCategory': '2022 Low Price', 'values': low_prices_2022},\n",
    "    ]\n",
    ")\n",
    "\n",
    "chart.set_sorting('alphabetical')\n",
    "\n",
    "# Adding legend for better readability\n",
    "legend = chart.add_legend()\n",
    "legend.add(chart)\n",
    "\n",
    "# Open the chart\n",
    "chart.open()\n"
   ]
  },
  {
   "cell_type": "code",
   "execution_count": 267,
   "id": "cb20c4d8",
   "metadata": {},
   "outputs": [
    {
     "data": {
      "text/html": [
       "\n",
       "        <iframe\n",
       "            width=\"100%\"\n",
       "            height=\"600\"\n",
       "            src=\"http://localhost:57998\"\n",
       "            frameborder=\"0\"\n",
       "            allowfullscreen\n",
       "            \n",
       "        ></iframe>\n",
       "        "
      ],
      "text/plain": [
       "<IPython.lib.display.IFrame at 0x256fddf46e0>"
      ]
     },
     "execution_count": 267,
     "metadata": {},
     "output_type": "execute_result"
    },
    {
     "name": "stderr",
     "output_type": "stream",
     "text": [
      "127.0.0.1 - - [26/Jul/2024 14:08:14] \"GET / HTTP/1.1\" 200 -\n"
     ]
    }
   ],
   "source": [
    "\n",
    "df['Date'] = pd.to_datetime(df['Date'])\n",
    "df['Year'] = df['Date'].dt.year\n",
    "df['Month'] = df['Date'].dt.month_name()\n",
    "\n",
    "# Filter data for the years 2013 to 2022\n",
    "df_2013 = df[df['Year'] == 2013]\n",
    "df_2014 = df[df['Year'] == 2014]\n",
    "df_2015 = df[df['Year'] == 2015]\n",
    "df_2016 = df[df['Year'] == 2016]\n",
    "df_2017 = df[df['Year'] == 2017]\n",
    "df_2018 = df[df['Year'] == 2018]\n",
    "df_2019 = df[df['Year'] == 2019]\n",
    "df_2020 = df[df['Year'] == 2020]\n",
    "df_2021 = df[df['Year'] == 2021]\n",
    "df_2022 = df[df['Year'] == 2022]\n",
    "\n",
    "# Group by Month and get max and min values for each year\n",
    "def get_monthly_stats(df_year):\n",
    "    monthly_stats = df_year.groupby('Month').agg({\n",
    "        'High': 'max',\n",
    "        'Low': 'min'\n",
    "    }).reset_index()\n",
    "    # Ensure all months are present\n",
    "    for month in months_order:\n",
    "        if month not in monthly_stats['Month'].values:\n",
    "            monthly_stats = monthly_stats.append({'Month': month, 'High': None, 'Low': None}, ignore_index=True)\n",
    "    # Add MonthOrder for sorting\n",
    "    monthly_stats['MonthOrder'] = monthly_stats['Month'].apply(lambda x: months_order.index(x))\n",
    "    # Sort by MonthOrder\n",
    "    monthly_stats.sort_values('MonthOrder', inplace=True)\n",
    "    return monthly_stats\n",
    "\n",
    "months_order = [\"January\", \"February\", \"March\", \"April\", \"May\", \"June\", \"July\", \"August\", \"September\", \"October\", \"November\", \"December\"]\n",
    "\n",
    "monthly_stats_2013 = get_monthly_stats(df_2013)\n",
    "monthly_stats_2014 = get_monthly_stats(df_2014)\n",
    "monthly_stats_2015 = get_monthly_stats(df_2015)\n",
    "monthly_stats_2016 = get_monthly_stats(df_2016)\n",
    "monthly_stats_2017 = get_monthly_stats(df_2017)\n",
    "monthly_stats_2018 = get_monthly_stats(df_2018)\n",
    "monthly_stats_2019 = get_monthly_stats(df_2019)\n",
    "monthly_stats_2020 = get_monthly_stats(df_2020)\n",
    "monthly_stats_2021 = get_monthly_stats(df_2021)\n",
    "monthly_stats_2022 = get_monthly_stats(df_2022)\n",
    "\n",
    "# Prepare data for the chart\n",
    "months = months_order  # Using the full ordered list of months\n",
    "high_prices_2013 = monthly_stats_2013['High'].tolist()\n",
    "low_prices_2013 = monthly_stats_2013['Low'].tolist()\n",
    "high_prices_2014 = monthly_stats_2014['High'].tolist()\n",
    "low_prices_2014 = monthly_stats_2014['Low'].tolist()\n",
    "high_prices_2015 = monthly_stats_2015['High'].tolist()\n",
    "low_prices_2015 = monthly_stats_2015['Low'].tolist()\n",
    "high_prices_2016 = monthly_stats_2016['High'].tolist()\n",
    "low_prices_2016 = monthly_stats_2016['Low'].tolist()\n",
    "high_prices_2017 = monthly_stats_2017['High'].tolist()\n",
    "low_prices_2017 = monthly_stats_2017['Low'].tolist()\n",
    "high_prices_2018 = monthly_stats_2018['High'].tolist()\n",
    "low_prices_2018 = monthly_stats_2018['Low'].tolist()\n",
    "high_prices_2019 = monthly_stats_2019['High'].tolist()\n",
    "low_prices_2019 = monthly_stats_2019['Low'].tolist()\n",
    "high_prices_2020 = monthly_stats_2020['High'].tolist()\n",
    "low_prices_2020 = monthly_stats_2020['Low'].tolist()\n",
    "high_prices_2021 = monthly_stats_2021['High'].tolist()\n",
    "low_prices_2021 = monthly_stats_2021['Low'].tolist()\n",
    "high_prices_2022 = monthly_stats_2022['High'].tolist()\n",
    "low_prices_2022 = monthly_stats_2022['Low'].tolist()\n",
    "\n",
    "# Handle NaN values if any\n",
    "def handle_nan_values(prices):\n",
    "    return [0 if pd.isna(x) else x for x in prices]\n",
    "\n",
    "high_prices_2013 = handle_nan_values(high_prices_2013)\n",
    "low_prices_2013 = handle_nan_values(low_prices_2013)\n",
    "high_prices_2014 = handle_nan_values(high_prices_2014)\n",
    "low_prices_2014 = handle_nan_values(low_prices_2014)\n",
    "high_prices_2015 = handle_nan_values(high_prices_2015)\n",
    "low_prices_2015 = handle_nan_values(low_prices_2015)\n",
    "high_prices_2016 = handle_nan_values(high_prices_2016)\n",
    "low_prices_2016 = handle_nan_values(low_prices_2016)\n",
    "high_prices_2017 = handle_nan_values(high_prices_2017)\n",
    "low_prices_2017 = handle_nan_values(low_prices_2017)\n",
    "high_prices_2018 = handle_nan_values(high_prices_2018)\n",
    "low_prices_2018 = handle_nan_values(low_prices_2018)\n",
    "high_prices_2019 = handle_nan_values(high_prices_2019)\n",
    "low_prices_2019 = handle_nan_values(low_prices_2019)\n",
    "high_prices_2020 = handle_nan_values(high_prices_2020)\n",
    "low_prices_2020 = handle_nan_values(low_prices_2020)\n",
    "high_prices_2021 = handle_nan_values(high_prices_2021)\n",
    "low_prices_2021 = handle_nan_values(low_prices_2021)\n",
    "high_prices_2022 = handle_nan_values(high_prices_2022)\n",
    "low_prices_2022 = handle_nan_values(low_prices_2022)\n",
    "\n",
    "# Initialize the stacked bar chart with the title including the year range\n",
    "chart = lc.BarChart(\n",
    "    vertical=True,\n",
    "    theme=lc.Themes.CyberSpace,\n",
    "    title='High and Low Prices Comparison: 2013 to 2022'\n",
    ")\n",
    "\n",
    "# Prepare the data for stacked bar chart\n",
    "chart.set_data_stacked(\n",
    "    months,\n",
    "    [\n",
    "        {'subCategory': '2013 High Price', 'values': high_prices_2013},\n",
    "        {'subCategory': '2013 Low Price', 'values': low_prices_2013},\n",
    "        {'subCategory': '2014 High Price', 'values': high_prices_2014},\n",
    "        {'subCategory': '2014 Low Price', 'values': low_prices_2014},\n",
    "        {'subCategory': '2015 High Price', 'values': high_prices_2015},\n",
    "        {'subCategory': '2015 Low Price', 'values': low_prices_2015},\n",
    "        {'subCategory': '2016 High Price', 'values': high_prices_2016},\n",
    "        {'subCategory': '2016 Low Price', 'values': low_prices_2016},\n",
    "        {'subCategory': '2017 High Price', 'values': high_prices_2017},\n",
    "        {'subCategory': '2017 Low Price', 'values': low_prices_2017},\n",
    "        {'subCategory': '2018 High Price', 'values': high_prices_2018},\n",
    "        {'subCategory': '2018 Low Price', 'values': low_prices_2018},\n",
    "        {'subCategory': '2019 High Price', 'values': high_prices_2019},\n",
    "        {'subCategory': '2019 Low Price', 'values': low_prices_2019},\n",
    "        {'subCategory': '2020 High Price', 'values': high_prices_2020},\n",
    "        {'subCategory': '2020 Low Price', 'values': low_prices_2020},\n",
    "        {'subCategory': '2021 High Price', 'values': high_prices_2021},\n",
    "        {'subCategory': '2021 Low Price', 'values': low_prices_2021},\n",
    "        {'subCategory': '2022 High Price', 'values': high_prices_2022},\n",
    "        {'subCategory': '2022 Low Price', 'values': low_prices_2022},\n",
    "    ]\n",
    ")\n",
    "\n",
    "chart.set_value_label_display_mode('hidden')\n",
    "chart.set_sorting('disabled')\n",
    "\n",
    "# Adding legend for better readability\n",
    "legend = chart.add_legend()\n",
    "legend.add(chart)\n",
    "\n",
    "# Open the chart\n",
    "chart.open()\n"
   ]
  },
  {
   "cell_type": "code",
   "execution_count": 285,
   "id": "9b35f82a",
   "metadata": {},
   "outputs": [
    {
     "data": {
      "text/html": [
       "\n",
       "        <iframe\n",
       "            width=\"100%\"\n",
       "            height=\"600\"\n",
       "            src=\"http://localhost:58443\"\n",
       "            frameborder=\"0\"\n",
       "            allowfullscreen\n",
       "            \n",
       "        ></iframe>\n",
       "        "
      ],
      "text/plain": [
       "<IPython.lib.display.IFrame at 0x256fe15eb70>"
      ]
     },
     "execution_count": 285,
     "metadata": {},
     "output_type": "execute_result"
    },
    {
     "name": "stderr",
     "output_type": "stream",
     "text": [
      "127.0.0.1 - - [26/Jul/2024 14:18:36] \"GET / HTTP/1.1\" 200 -\n"
     ]
    }
   ],
   "source": [
    "df['Date'] = pd.to_datetime(df['Date'])\n",
    "df['Year'] = df['Date'].dt.year\n",
    "df['Month'] = df['Date'].dt.month_name()\n",
    "df['Month_Number'] = df['Date'].dt.month\n",
    "\n",
    "# Group by Year and Month, and get max and min values\n",
    "monthly_stats = df.groupby(['Year', 'Month', 'Month_Number']).agg({\n",
    "    'High': 'max',\n",
    "    'Low': 'min'\n",
    "}).reset_index().sort_values(by=['Year', 'Month_Number'])\n",
    "\n",
    "# Initialize the bar chart\n",
    "chart = lc.BarChart(\n",
    "    vertical=True,\n",
    "    theme=lc.Themes.CyberSpace,\n",
    "    title='High and Low Prices by Month'\n",
    ")\n",
    "\n",
    "# Prepare month labels with year information\n",
    "month_labels = [f\"{row['Month']} {row['Year']}\" for index, row in monthly_stats.iterrows()]\n",
    "\n",
    "# Set grouped data\n",
    "chart.set_data_grouped(\n",
    "    month_labels,\n",
    "    [\n",
    "        {'subCategory': 'High Price', 'values': monthly_stats['High'].tolist()},\n",
    "        {'subCategory': 'Low Price', 'values': monthly_stats['Low'].tolist()}\n",
    "    ]\n",
    ")\n",
    "\n",
    "chart.set_sorting('descending')\n",
    "\n",
    "# Adding legend\n",
    "legend = chart.add_legend()\n",
    "legend.add(chart)\n",
    "\n",
    "# Open the chart\n",
    "chart.open()\n"
   ]
  },
  {
   "cell_type": "markdown",
   "id": "133c0934",
   "metadata": {
    "papermill": {
     "duration": 0.021706,
     "end_time": "2023-01-13T21:38:56.281163",
     "exception": false,
     "start_time": "2023-01-13T21:38:56.259457",
     "status": "completed"
    },
    "tags": []
   },
   "source": [
    "# Splitting Data to Training & Test Sets\n",
    "__Since we cannot train on future data in time series data, we should not divide the time series data randomly. In time series splitting, testing set is always later than training set. We consider the last year for testing and everything else for training:__"
   ]
  },
  {
   "cell_type": "code",
   "execution_count": 12,
   "id": "e43c3225",
   "metadata": {
    "execution": {
     "iopub.execute_input": "2023-01-13T21:38:56.327147Z",
     "iopub.status.busy": "2023-01-13T21:38:56.326719Z",
     "iopub.status.idle": "2023-01-13T21:38:56.336784Z",
     "shell.execute_reply": "2023-01-13T21:38:56.335698Z"
    },
    "papermill": {
     "duration": 0.035779,
     "end_time": "2023-01-13T21:38:56.339242",
     "exception": false,
     "start_time": "2023-01-13T21:38:56.303463",
     "status": "completed"
    },
    "tags": []
   },
   "outputs": [
    {
     "data": {
      "text/plain": [
       "260"
      ]
     },
     "execution_count": 12,
     "metadata": {},
     "output_type": "execute_result"
    }
   ],
   "source": [
    "test_size = df[df.Date.dt.year==2022].shape[0]\n",
    "test_size"
   ]
  },
  {
   "cell_type": "markdown",
   "id": "2ecb4b4e",
   "metadata": {
    "papermill": {
     "duration": 0.021838,
     "end_time": "2023-01-13T21:38:56.383048",
     "exception": false,
     "start_time": "2023-01-13T21:38:56.361210",
     "status": "completed"
    },
    "tags": []
   },
   "source": [
    "__Gold Price Training and Test Sets Plot:__"
   ]
  },
  {
   "cell_type": "code",
   "execution_count": 288,
   "id": "96341b6e",
   "metadata": {
    "execution": {
     "iopub.execute_input": "2023-01-13T21:38:56.429086Z",
     "iopub.status.busy": "2023-01-13T21:38:56.428619Z",
     "iopub.status.idle": "2023-01-13T21:38:56.864909Z",
     "shell.execute_reply": "2023-01-13T21:38:56.864044Z"
    },
    "papermill": {
     "duration": 0.462382,
     "end_time": "2023-01-13T21:38:56.867541",
     "exception": false,
     "start_time": "2023-01-13T21:38:56.405159",
     "status": "completed"
    },
    "tags": []
   },
   "outputs": [
    {
     "data": {
      "text/html": [
       "\n",
       "        <iframe\n",
       "            width=\"100%\"\n",
       "            height=\"600\"\n",
       "            src=\"http://localhost:61236\"\n",
       "            frameborder=\"0\"\n",
       "            allowfullscreen\n",
       "            \n",
       "        ></iframe>\n",
       "        "
      ],
      "text/plain": [
       "<IPython.lib.display.IFrame at 0x256800c7020>"
      ]
     },
     "execution_count": 288,
     "metadata": {},
     "output_type": "execute_result"
    },
    {
     "name": "stderr",
     "output_type": "stream",
     "text": [
      "127.0.0.1 - - [30/Jul/2024 10:12:51] \"GET / HTTP/1.1\" 200 -\n"
     ]
    }
   ],
   "source": [
    "# Assuming df is already preprocessed and sorted by date\n",
    "test_size = df[df.Date.dt.year == 2022].shape[0]\n",
    "\n",
    "# Calculate the timestamp origin for datetime conversion\n",
    "time_origin = time.time() * 1000  # current time in milliseconds\n",
    "\n",
    "# Convert dates to timestamps and adjust by the origin\n",
    "x_values = (df['Date'].astype('int64') / 10**6 - time_origin).tolist()\n",
    "y_values = df['Price'].values.tolist()\n",
    "\n",
    "# Creating a chart\n",
    "chart = lc.ChartXY(\n",
    "    theme=lc.Themes.CyberSpace,\n",
    "    title='Gold Price Training and Test Sets'\n",
    ")\n",
    "\n",
    "# Adding and configuring the x-axis for datetime display\n",
    "x_axis = chart.get_default_x_axis()\n",
    "x_axis.set_tick_strategy('DateTime', time_origin=time_origin)  # Configuring datetime ticks\n",
    "x_axis.set_title('Date')\n",
    "y_axis = chart.get_default_y_axis()\n",
    "y_axis.set_title('Price')\n",
    "\n",
    "# Add line series for training set\n",
    "train_series = chart.add_line_series()\n",
    "train_series.add(x=x_values[:-test_size], y=y_values[:-test_size])\n",
    "train_series.set_name('Training Set')\n",
    "\n",
    "# Add line series for test set\n",
    "test_series = chart.add_line_series()\n",
    "test_series.add(x=x_values[-test_size:], y=y_values[-test_size:])\n",
    "test_series.set_name('Test Set')\n",
    "\n",
    "# Add legend to the chart\n",
    "legend = chart.add_legend()\n",
    "legend.add(train_series)\n",
    "legend.add(test_series)\n",
    "\n",
    "# Open the chart\n",
    "chart.open()\n"
   ]
  },
  {
   "cell_type": "markdown",
   "id": "387ffdd6",
   "metadata": {
    "papermill": {
     "duration": 0.024125,
     "end_time": "2023-01-13T21:38:56.915898",
     "exception": false,
     "start_time": "2023-01-13T21:38:56.891773",
     "status": "completed"
    },
    "tags": []
   },
   "source": [
    "# Data Scaling\n",
    "__Since we aim to predict Price only based on its historical data, we scale Price using MinMaxScaler to avoid intensive computations:__"
   ]
  },
  {
   "cell_type": "code",
   "execution_count": 35,
   "id": "768746f9",
   "metadata": {
    "execution": {
     "iopub.execute_input": "2023-01-13T21:38:56.966641Z",
     "iopub.status.busy": "2023-01-13T21:38:56.966215Z",
     "iopub.status.idle": "2023-01-13T21:38:56.976036Z",
     "shell.execute_reply": "2023-01-13T21:38:56.974989Z"
    },
    "papermill": {
     "duration": 0.038016,
     "end_time": "2023-01-13T21:38:56.978401",
     "exception": false,
     "start_time": "2023-01-13T21:38:56.940385",
     "status": "completed"
    },
    "tags": []
   },
   "outputs": [
    {
     "data": {
      "text/html": [
       "<style>#sk-container-id-1 {\n",
       "  /* Definition of color scheme common for light and dark mode */\n",
       "  --sklearn-color-text: black;\n",
       "  --sklearn-color-line: gray;\n",
       "  /* Definition of color scheme for unfitted estimators */\n",
       "  --sklearn-color-unfitted-level-0: #fff5e6;\n",
       "  --sklearn-color-unfitted-level-1: #f6e4d2;\n",
       "  --sklearn-color-unfitted-level-2: #ffe0b3;\n",
       "  --sklearn-color-unfitted-level-3: chocolate;\n",
       "  /* Definition of color scheme for fitted estimators */\n",
       "  --sklearn-color-fitted-level-0: #f0f8ff;\n",
       "  --sklearn-color-fitted-level-1: #d4ebff;\n",
       "  --sklearn-color-fitted-level-2: #b3dbfd;\n",
       "  --sklearn-color-fitted-level-3: cornflowerblue;\n",
       "\n",
       "  /* Specific color for light theme */\n",
       "  --sklearn-color-text-on-default-background: var(--sg-text-color, var(--theme-code-foreground, var(--jp-content-font-color1, black)));\n",
       "  --sklearn-color-background: var(--sg-background-color, var(--theme-background, var(--jp-layout-color0, white)));\n",
       "  --sklearn-color-border-box: var(--sg-text-color, var(--theme-code-foreground, var(--jp-content-font-color1, black)));\n",
       "  --sklearn-color-icon: #696969;\n",
       "\n",
       "  @media (prefers-color-scheme: dark) {\n",
       "    /* Redefinition of color scheme for dark theme */\n",
       "    --sklearn-color-text-on-default-background: var(--sg-text-color, var(--theme-code-foreground, var(--jp-content-font-color1, white)));\n",
       "    --sklearn-color-background: var(--sg-background-color, var(--theme-background, var(--jp-layout-color0, #111)));\n",
       "    --sklearn-color-border-box: var(--sg-text-color, var(--theme-code-foreground, var(--jp-content-font-color1, white)));\n",
       "    --sklearn-color-icon: #878787;\n",
       "  }\n",
       "}\n",
       "\n",
       "#sk-container-id-1 {\n",
       "  color: var(--sklearn-color-text);\n",
       "}\n",
       "\n",
       "#sk-container-id-1 pre {\n",
       "  padding: 0;\n",
       "}\n",
       "\n",
       "#sk-container-id-1 input.sk-hidden--visually {\n",
       "  border: 0;\n",
       "  clip: rect(1px 1px 1px 1px);\n",
       "  clip: rect(1px, 1px, 1px, 1px);\n",
       "  height: 1px;\n",
       "  margin: -1px;\n",
       "  overflow: hidden;\n",
       "  padding: 0;\n",
       "  position: absolute;\n",
       "  width: 1px;\n",
       "}\n",
       "\n",
       "#sk-container-id-1 div.sk-dashed-wrapped {\n",
       "  border: 1px dashed var(--sklearn-color-line);\n",
       "  margin: 0 0.4em 0.5em 0.4em;\n",
       "  box-sizing: border-box;\n",
       "  padding-bottom: 0.4em;\n",
       "  background-color: var(--sklearn-color-background);\n",
       "}\n",
       "\n",
       "#sk-container-id-1 div.sk-container {\n",
       "  /* jupyter's `normalize.less` sets `[hidden] { display: none; }`\n",
       "     but bootstrap.min.css set `[hidden] { display: none !important; }`\n",
       "     so we also need the `!important` here to be able to override the\n",
       "     default hidden behavior on the sphinx rendered scikit-learn.org.\n",
       "     See: https://github.com/scikit-learn/scikit-learn/issues/21755 */\n",
       "  display: inline-block !important;\n",
       "  position: relative;\n",
       "}\n",
       "\n",
       "#sk-container-id-1 div.sk-text-repr-fallback {\n",
       "  display: none;\n",
       "}\n",
       "\n",
       "div.sk-parallel-item,\n",
       "div.sk-serial,\n",
       "div.sk-item {\n",
       "  /* draw centered vertical line to link estimators */\n",
       "  background-image: linear-gradient(var(--sklearn-color-text-on-default-background), var(--sklearn-color-text-on-default-background));\n",
       "  background-size: 2px 100%;\n",
       "  background-repeat: no-repeat;\n",
       "  background-position: center center;\n",
       "}\n",
       "\n",
       "/* Parallel-specific style estimator block */\n",
       "\n",
       "#sk-container-id-1 div.sk-parallel-item::after {\n",
       "  content: \"\";\n",
       "  width: 100%;\n",
       "  border-bottom: 2px solid var(--sklearn-color-text-on-default-background);\n",
       "  flex-grow: 1;\n",
       "}\n",
       "\n",
       "#sk-container-id-1 div.sk-parallel {\n",
       "  display: flex;\n",
       "  align-items: stretch;\n",
       "  justify-content: center;\n",
       "  background-color: var(--sklearn-color-background);\n",
       "  position: relative;\n",
       "}\n",
       "\n",
       "#sk-container-id-1 div.sk-parallel-item {\n",
       "  display: flex;\n",
       "  flex-direction: column;\n",
       "}\n",
       "\n",
       "#sk-container-id-1 div.sk-parallel-item:first-child::after {\n",
       "  align-self: flex-end;\n",
       "  width: 50%;\n",
       "}\n",
       "\n",
       "#sk-container-id-1 div.sk-parallel-item:last-child::after {\n",
       "  align-self: flex-start;\n",
       "  width: 50%;\n",
       "}\n",
       "\n",
       "#sk-container-id-1 div.sk-parallel-item:only-child::after {\n",
       "  width: 0;\n",
       "}\n",
       "\n",
       "/* Serial-specific style estimator block */\n",
       "\n",
       "#sk-container-id-1 div.sk-serial {\n",
       "  display: flex;\n",
       "  flex-direction: column;\n",
       "  align-items: center;\n",
       "  background-color: var(--sklearn-color-background);\n",
       "  padding-right: 1em;\n",
       "  padding-left: 1em;\n",
       "}\n",
       "\n",
       "\n",
       "/* Toggleable style: style used for estimator/Pipeline/ColumnTransformer box that is\n",
       "clickable and can be expanded/collapsed.\n",
       "- Pipeline and ColumnTransformer use this feature and define the default style\n",
       "- Estimators will overwrite some part of the style using the `sk-estimator` class\n",
       "*/\n",
       "\n",
       "/* Pipeline and ColumnTransformer style (default) */\n",
       "\n",
       "#sk-container-id-1 div.sk-toggleable {\n",
       "  /* Default theme specific background. It is overwritten whether we have a\n",
       "  specific estimator or a Pipeline/ColumnTransformer */\n",
       "  background-color: var(--sklearn-color-background);\n",
       "}\n",
       "\n",
       "/* Toggleable label */\n",
       "#sk-container-id-1 label.sk-toggleable__label {\n",
       "  cursor: pointer;\n",
       "  display: block;\n",
       "  width: 100%;\n",
       "  margin-bottom: 0;\n",
       "  padding: 0.5em;\n",
       "  box-sizing: border-box;\n",
       "  text-align: center;\n",
       "}\n",
       "\n",
       "#sk-container-id-1 label.sk-toggleable__label-arrow:before {\n",
       "  /* Arrow on the left of the label */\n",
       "  content: \"▸\";\n",
       "  float: left;\n",
       "  margin-right: 0.25em;\n",
       "  color: var(--sklearn-color-icon);\n",
       "}\n",
       "\n",
       "#sk-container-id-1 label.sk-toggleable__label-arrow:hover:before {\n",
       "  color: var(--sklearn-color-text);\n",
       "}\n",
       "\n",
       "/* Toggleable content - dropdown */\n",
       "\n",
       "#sk-container-id-1 div.sk-toggleable__content {\n",
       "  max-height: 0;\n",
       "  max-width: 0;\n",
       "  overflow: hidden;\n",
       "  text-align: left;\n",
       "  /* unfitted */\n",
       "  background-color: var(--sklearn-color-unfitted-level-0);\n",
       "}\n",
       "\n",
       "#sk-container-id-1 div.sk-toggleable__content.fitted {\n",
       "  /* fitted */\n",
       "  background-color: var(--sklearn-color-fitted-level-0);\n",
       "}\n",
       "\n",
       "#sk-container-id-1 div.sk-toggleable__content pre {\n",
       "  margin: 0.2em;\n",
       "  border-radius: 0.25em;\n",
       "  color: var(--sklearn-color-text);\n",
       "  /* unfitted */\n",
       "  background-color: var(--sklearn-color-unfitted-level-0);\n",
       "}\n",
       "\n",
       "#sk-container-id-1 div.sk-toggleable__content.fitted pre {\n",
       "  /* unfitted */\n",
       "  background-color: var(--sklearn-color-fitted-level-0);\n",
       "}\n",
       "\n",
       "#sk-container-id-1 input.sk-toggleable__control:checked~div.sk-toggleable__content {\n",
       "  /* Expand drop-down */\n",
       "  max-height: 200px;\n",
       "  max-width: 100%;\n",
       "  overflow: auto;\n",
       "}\n",
       "\n",
       "#sk-container-id-1 input.sk-toggleable__control:checked~label.sk-toggleable__label-arrow:before {\n",
       "  content: \"▾\";\n",
       "}\n",
       "\n",
       "/* Pipeline/ColumnTransformer-specific style */\n",
       "\n",
       "#sk-container-id-1 div.sk-label input.sk-toggleable__control:checked~label.sk-toggleable__label {\n",
       "  color: var(--sklearn-color-text);\n",
       "  background-color: var(--sklearn-color-unfitted-level-2);\n",
       "}\n",
       "\n",
       "#sk-container-id-1 div.sk-label.fitted input.sk-toggleable__control:checked~label.sk-toggleable__label {\n",
       "  background-color: var(--sklearn-color-fitted-level-2);\n",
       "}\n",
       "\n",
       "/* Estimator-specific style */\n",
       "\n",
       "/* Colorize estimator box */\n",
       "#sk-container-id-1 div.sk-estimator input.sk-toggleable__control:checked~label.sk-toggleable__label {\n",
       "  /* unfitted */\n",
       "  background-color: var(--sklearn-color-unfitted-level-2);\n",
       "}\n",
       "\n",
       "#sk-container-id-1 div.sk-estimator.fitted input.sk-toggleable__control:checked~label.sk-toggleable__label {\n",
       "  /* fitted */\n",
       "  background-color: var(--sklearn-color-fitted-level-2);\n",
       "}\n",
       "\n",
       "#sk-container-id-1 div.sk-label label.sk-toggleable__label,\n",
       "#sk-container-id-1 div.sk-label label {\n",
       "  /* The background is the default theme color */\n",
       "  color: var(--sklearn-color-text-on-default-background);\n",
       "}\n",
       "\n",
       "/* On hover, darken the color of the background */\n",
       "#sk-container-id-1 div.sk-label:hover label.sk-toggleable__label {\n",
       "  color: var(--sklearn-color-text);\n",
       "  background-color: var(--sklearn-color-unfitted-level-2);\n",
       "}\n",
       "\n",
       "/* Label box, darken color on hover, fitted */\n",
       "#sk-container-id-1 div.sk-label.fitted:hover label.sk-toggleable__label.fitted {\n",
       "  color: var(--sklearn-color-text);\n",
       "  background-color: var(--sklearn-color-fitted-level-2);\n",
       "}\n",
       "\n",
       "/* Estimator label */\n",
       "\n",
       "#sk-container-id-1 div.sk-label label {\n",
       "  font-family: monospace;\n",
       "  font-weight: bold;\n",
       "  display: inline-block;\n",
       "  line-height: 1.2em;\n",
       "}\n",
       "\n",
       "#sk-container-id-1 div.sk-label-container {\n",
       "  text-align: center;\n",
       "}\n",
       "\n",
       "/* Estimator-specific */\n",
       "#sk-container-id-1 div.sk-estimator {\n",
       "  font-family: monospace;\n",
       "  border: 1px dotted var(--sklearn-color-border-box);\n",
       "  border-radius: 0.25em;\n",
       "  box-sizing: border-box;\n",
       "  margin-bottom: 0.5em;\n",
       "  /* unfitted */\n",
       "  background-color: var(--sklearn-color-unfitted-level-0);\n",
       "}\n",
       "\n",
       "#sk-container-id-1 div.sk-estimator.fitted {\n",
       "  /* fitted */\n",
       "  background-color: var(--sklearn-color-fitted-level-0);\n",
       "}\n",
       "\n",
       "/* on hover */\n",
       "#sk-container-id-1 div.sk-estimator:hover {\n",
       "  /* unfitted */\n",
       "  background-color: var(--sklearn-color-unfitted-level-2);\n",
       "}\n",
       "\n",
       "#sk-container-id-1 div.sk-estimator.fitted:hover {\n",
       "  /* fitted */\n",
       "  background-color: var(--sklearn-color-fitted-level-2);\n",
       "}\n",
       "\n",
       "/* Specification for estimator info (e.g. \"i\" and \"?\") */\n",
       "\n",
       "/* Common style for \"i\" and \"?\" */\n",
       "\n",
       ".sk-estimator-doc-link,\n",
       "a:link.sk-estimator-doc-link,\n",
       "a:visited.sk-estimator-doc-link {\n",
       "  float: right;\n",
       "  font-size: smaller;\n",
       "  line-height: 1em;\n",
       "  font-family: monospace;\n",
       "  background-color: var(--sklearn-color-background);\n",
       "  border-radius: 1em;\n",
       "  height: 1em;\n",
       "  width: 1em;\n",
       "  text-decoration: none !important;\n",
       "  margin-left: 1ex;\n",
       "  /* unfitted */\n",
       "  border: var(--sklearn-color-unfitted-level-1) 1pt solid;\n",
       "  color: var(--sklearn-color-unfitted-level-1);\n",
       "}\n",
       "\n",
       ".sk-estimator-doc-link.fitted,\n",
       "a:link.sk-estimator-doc-link.fitted,\n",
       "a:visited.sk-estimator-doc-link.fitted {\n",
       "  /* fitted */\n",
       "  border: var(--sklearn-color-fitted-level-1) 1pt solid;\n",
       "  color: var(--sklearn-color-fitted-level-1);\n",
       "}\n",
       "\n",
       "/* On hover */\n",
       "div.sk-estimator:hover .sk-estimator-doc-link:hover,\n",
       ".sk-estimator-doc-link:hover,\n",
       "div.sk-label-container:hover .sk-estimator-doc-link:hover,\n",
       ".sk-estimator-doc-link:hover {\n",
       "  /* unfitted */\n",
       "  background-color: var(--sklearn-color-unfitted-level-3);\n",
       "  color: var(--sklearn-color-background);\n",
       "  text-decoration: none;\n",
       "}\n",
       "\n",
       "div.sk-estimator.fitted:hover .sk-estimator-doc-link.fitted:hover,\n",
       ".sk-estimator-doc-link.fitted:hover,\n",
       "div.sk-label-container:hover .sk-estimator-doc-link.fitted:hover,\n",
       ".sk-estimator-doc-link.fitted:hover {\n",
       "  /* fitted */\n",
       "  background-color: var(--sklearn-color-fitted-level-3);\n",
       "  color: var(--sklearn-color-background);\n",
       "  text-decoration: none;\n",
       "}\n",
       "\n",
       "/* Span, style for the box shown on hovering the info icon */\n",
       ".sk-estimator-doc-link span {\n",
       "  display: none;\n",
       "  z-index: 9999;\n",
       "  position: relative;\n",
       "  font-weight: normal;\n",
       "  right: .2ex;\n",
       "  padding: .5ex;\n",
       "  margin: .5ex;\n",
       "  width: min-content;\n",
       "  min-width: 20ex;\n",
       "  max-width: 50ex;\n",
       "  color: var(--sklearn-color-text);\n",
       "  box-shadow: 2pt 2pt 4pt #999;\n",
       "  /* unfitted */\n",
       "  background: var(--sklearn-color-unfitted-level-0);\n",
       "  border: .5pt solid var(--sklearn-color-unfitted-level-3);\n",
       "}\n",
       "\n",
       ".sk-estimator-doc-link.fitted span {\n",
       "  /* fitted */\n",
       "  background: var(--sklearn-color-fitted-level-0);\n",
       "  border: var(--sklearn-color-fitted-level-3);\n",
       "}\n",
       "\n",
       ".sk-estimator-doc-link:hover span {\n",
       "  display: block;\n",
       "}\n",
       "\n",
       "/* \"?\"-specific style due to the `<a>` HTML tag */\n",
       "\n",
       "#sk-container-id-1 a.estimator_doc_link {\n",
       "  float: right;\n",
       "  font-size: 1rem;\n",
       "  line-height: 1em;\n",
       "  font-family: monospace;\n",
       "  background-color: var(--sklearn-color-background);\n",
       "  border-radius: 1rem;\n",
       "  height: 1rem;\n",
       "  width: 1rem;\n",
       "  text-decoration: none;\n",
       "  /* unfitted */\n",
       "  color: var(--sklearn-color-unfitted-level-1);\n",
       "  border: var(--sklearn-color-unfitted-level-1) 1pt solid;\n",
       "}\n",
       "\n",
       "#sk-container-id-1 a.estimator_doc_link.fitted {\n",
       "  /* fitted */\n",
       "  border: var(--sklearn-color-fitted-level-1) 1pt solid;\n",
       "  color: var(--sklearn-color-fitted-level-1);\n",
       "}\n",
       "\n",
       "/* On hover */\n",
       "#sk-container-id-1 a.estimator_doc_link:hover {\n",
       "  /* unfitted */\n",
       "  background-color: var(--sklearn-color-unfitted-level-3);\n",
       "  color: var(--sklearn-color-background);\n",
       "  text-decoration: none;\n",
       "}\n",
       "\n",
       "#sk-container-id-1 a.estimator_doc_link.fitted:hover {\n",
       "  /* fitted */\n",
       "  background-color: var(--sklearn-color-fitted-level-3);\n",
       "}\n",
       "</style><div id=\"sk-container-id-1\" class=\"sk-top-container\"><div class=\"sk-text-repr-fallback\"><pre>MinMaxScaler()</pre><b>In a Jupyter environment, please rerun this cell to show the HTML representation or trust the notebook. <br />On GitHub, the HTML representation is unable to render, please try loading this page with nbviewer.org.</b></div><div class=\"sk-container\" hidden><div class=\"sk-item\"><div class=\"sk-estimator fitted sk-toggleable\"><input class=\"sk-toggleable__control sk-hidden--visually\" id=\"sk-estimator-id-1\" type=\"checkbox\" checked><label for=\"sk-estimator-id-1\" class=\"sk-toggleable__label fitted sk-toggleable__label-arrow fitted\">&nbsp;&nbsp;MinMaxScaler<a class=\"sk-estimator-doc-link fitted\" rel=\"noreferrer\" target=\"_blank\" href=\"https://scikit-learn.org/1.4/modules/generated/sklearn.preprocessing.MinMaxScaler.html\">?<span>Documentation for MinMaxScaler</span></a><span class=\"sk-estimator-doc-link fitted\">i<span>Fitted</span></span></label><div class=\"sk-toggleable__content fitted\"><pre>MinMaxScaler()</pre></div> </div></div></div></div>"
      ],
      "text/plain": [
       "MinMaxScaler()"
      ]
     },
     "execution_count": 35,
     "metadata": {},
     "output_type": "execute_result"
    }
   ],
   "source": [
    "scaler = MinMaxScaler()\n",
    "scaler.fit(df.Price.values.reshape(-1,1))"
   ]
  },
  {
   "cell_type": "markdown",
   "id": "79963b17",
   "metadata": {
    "papermill": {
     "duration": 0.023626,
     "end_time": "2023-01-13T21:38:57.026900",
     "exception": false,
     "start_time": "2023-01-13T21:38:57.003274",
     "status": "completed"
    },
    "tags": []
   },
   "source": [
    "# Restructure Data & Create Sliding Window\n",
    "__The use of prior time steps to predict the next time step is called sliding window. In this way, time series data can be expressed as supervised learning. We can do this by using previous time steps as input variables and use the next time step as the output variable. The number of previous time steps is called the window width. Here we set window width to 60. Therefore, X_train and X_test will be nested lists containing lists of 60 time-stamp prices. y_train and y_test are also lists of gold prices containing the next day's gold price corresponds to each list in X_train and X_test respectively:__"
   ]
  },
  {
   "cell_type": "code",
   "execution_count": 36,
   "id": "653ae404",
   "metadata": {
    "execution": {
     "iopub.execute_input": "2023-01-13T21:38:57.076735Z",
     "iopub.status.busy": "2023-01-13T21:38:57.076342Z",
     "iopub.status.idle": "2023-01-13T21:38:57.081119Z",
     "shell.execute_reply": "2023-01-13T21:38:57.080023Z"
    },
    "papermill": {
     "duration": 0.032406,
     "end_time": "2023-01-13T21:38:57.083389",
     "exception": false,
     "start_time": "2023-01-13T21:38:57.050983",
     "status": "completed"
    },
    "tags": []
   },
   "outputs": [],
   "source": [
    "window_size = 60"
   ]
  },
  {
   "cell_type": "markdown",
   "id": "1bbd4251",
   "metadata": {
    "papermill": {
     "duration": 0.023875,
     "end_time": "2023-01-13T21:38:57.132072",
     "exception": false,
     "start_time": "2023-01-13T21:38:57.108197",
     "status": "completed"
    },
    "tags": []
   },
   "source": [
    "__Training Set:__"
   ]
  },
  {
   "cell_type": "code",
   "execution_count": 37,
   "id": "f721d12b",
   "metadata": {
    "execution": {
     "iopub.execute_input": "2023-01-13T21:38:57.182254Z",
     "iopub.status.busy": "2023-01-13T21:38:57.181819Z",
     "iopub.status.idle": "2023-01-13T21:38:57.187798Z",
     "shell.execute_reply": "2023-01-13T21:38:57.186575Z"
    },
    "papermill": {
     "duration": 0.033827,
     "end_time": "2023-01-13T21:38:57.190072",
     "exception": false,
     "start_time": "2023-01-13T21:38:57.156245",
     "status": "completed"
    },
    "tags": []
   },
   "outputs": [],
   "source": [
    "train_data = df.Price[:-test_size]\n",
    "train_data = scaler.transform(train_data.values.reshape(-1,1))"
   ]
  },
  {
   "cell_type": "code",
   "execution_count": 38,
   "id": "e86c8e1f",
   "metadata": {
    "execution": {
     "iopub.execute_input": "2023-01-13T21:38:57.240636Z",
     "iopub.status.busy": "2023-01-13T21:38:57.240231Z",
     "iopub.status.idle": "2023-01-13T21:38:57.248799Z",
     "shell.execute_reply": "2023-01-13T21:38:57.247598Z"
    },
    "papermill": {
     "duration": 0.036808,
     "end_time": "2023-01-13T21:38:57.251275",
     "exception": false,
     "start_time": "2023-01-13T21:38:57.214467",
     "status": "completed"
    },
    "tags": []
   },
   "outputs": [],
   "source": [
    "X_train = []\n",
    "y_train = []\n",
    "\n",
    "for i in range(window_size, len(train_data)):\n",
    "    X_train.append(train_data[i-60:i, 0])\n",
    "    y_train.append(train_data[i, 0])"
   ]
  },
  {
   "cell_type": "markdown",
   "id": "0abae0a6",
   "metadata": {
    "papermill": {
     "duration": 0.023875,
     "end_time": "2023-01-13T21:38:57.299207",
     "exception": false,
     "start_time": "2023-01-13T21:38:57.275332",
     "status": "completed"
    },
    "tags": []
   },
   "source": [
    "__Test Set:__"
   ]
  },
  {
   "cell_type": "code",
   "execution_count": 39,
   "id": "300ca9dc",
   "metadata": {
    "execution": {
     "iopub.execute_input": "2023-01-13T21:38:57.349517Z",
     "iopub.status.busy": "2023-01-13T21:38:57.349123Z",
     "iopub.status.idle": "2023-01-13T21:38:57.355187Z",
     "shell.execute_reply": "2023-01-13T21:38:57.353892Z"
    },
    "papermill": {
     "duration": 0.033896,
     "end_time": "2023-01-13T21:38:57.357378",
     "exception": false,
     "start_time": "2023-01-13T21:38:57.323482",
     "status": "completed"
    },
    "tags": []
   },
   "outputs": [],
   "source": [
    "test_data = df.Price[-test_size-60:]\n",
    "test_data = scaler.transform(test_data.values.reshape(-1,1))"
   ]
  },
  {
   "cell_type": "code",
   "execution_count": 40,
   "id": "5524e7fd",
   "metadata": {
    "execution": {
     "iopub.execute_input": "2023-01-13T21:38:57.407660Z",
     "iopub.status.busy": "2023-01-13T21:38:57.407247Z",
     "iopub.status.idle": "2023-01-13T21:38:57.413568Z",
     "shell.execute_reply": "2023-01-13T21:38:57.412423Z"
    },
    "papermill": {
     "duration": 0.034307,
     "end_time": "2023-01-13T21:38:57.415803",
     "exception": false,
     "start_time": "2023-01-13T21:38:57.381496",
     "status": "completed"
    },
    "tags": []
   },
   "outputs": [],
   "source": [
    "X_test = []\n",
    "y_test = []\n",
    "\n",
    "for i in range(window_size, len(test_data)):\n",
    "    X_test.append(test_data[i-60:i, 0])\n",
    "    y_test.append(test_data[i, 0])"
   ]
  },
  {
   "cell_type": "markdown",
   "id": "9a67bbec",
   "metadata": {
    "papermill": {
     "duration": 0.024719,
     "end_time": "2023-01-13T21:38:57.464907",
     "exception": false,
     "start_time": "2023-01-13T21:38:57.440188",
     "status": "completed"
    },
    "tags": []
   },
   "source": [
    "# Converting Data to Numpy Arrays\n",
    "\n",
    "__Now X_train and X_test are nested lists (two-dimensional lists) and y_train is a one-dimensional list. We need to convert them to numpy arrays with a higher dimension, which is the data format accepted by TensorFlow when training the neural network:__"
   ]
  },
  {
   "cell_type": "code",
   "execution_count": 41,
   "id": "25a0e33c",
   "metadata": {
    "execution": {
     "iopub.execute_input": "2023-01-13T21:38:57.516258Z",
     "iopub.status.busy": "2023-01-13T21:38:57.515807Z",
     "iopub.status.idle": "2023-01-13T21:38:57.522976Z",
     "shell.execute_reply": "2023-01-13T21:38:57.522081Z"
    },
    "papermill": {
     "duration": 0.035792,
     "end_time": "2023-01-13T21:38:57.525210",
     "exception": false,
     "start_time": "2023-01-13T21:38:57.489418",
     "status": "completed"
    },
    "tags": []
   },
   "outputs": [],
   "source": [
    "X_train = np.array(X_train)\n",
    "X_test  = np.array(X_test)\n",
    "y_train = np.array(y_train)\n",
    "y_test  = np.array(y_test)"
   ]
  },
  {
   "cell_type": "code",
   "execution_count": 43,
   "id": "9eff0e06",
   "metadata": {
    "execution": {
     "iopub.execute_input": "2023-01-13T21:38:57.576093Z",
     "iopub.status.busy": "2023-01-13T21:38:57.575660Z",
     "iopub.status.idle": "2023-01-13T21:38:57.581384Z",
     "shell.execute_reply": "2023-01-13T21:38:57.580578Z"
    },
    "papermill": {
     "duration": 0.033944,
     "end_time": "2023-01-13T21:38:57.583467",
     "exception": false,
     "start_time": "2023-01-13T21:38:57.549523",
     "status": "completed"
    },
    "tags": []
   },
   "outputs": [],
   "source": [
    "X_train = np.reshape(X_train, (X_train.shape[0], X_train.shape[1], 1))\n",
    "X_test  = np.reshape(X_test, (X_test.shape[0], X_test.shape[1], 1))\n",
    "y_train = np.reshape(y_train, (-1,1))\n",
    "y_test  = np.reshape(y_test, (-1,1))"
   ]
  },
  {
   "cell_type": "code",
   "execution_count": 45,
   "id": "ca1e943a",
   "metadata": {
    "execution": {
     "iopub.execute_input": "2023-01-13T21:38:57.636338Z",
     "iopub.status.busy": "2023-01-13T21:38:57.635879Z",
     "iopub.status.idle": "2023-01-13T21:38:57.642233Z",
     "shell.execute_reply": "2023-01-13T21:38:57.641201Z"
    },
    "papermill": {
     "duration": 0.034679,
     "end_time": "2023-01-13T21:38:57.644506",
     "exception": false,
     "start_time": "2023-01-13T21:38:57.609827",
     "status": "completed"
    },
    "tags": []
   },
   "outputs": [
    {
     "name": "stdout",
     "output_type": "stream",
     "text": [
      "X_train Shape:  (2263, 60, 1)\n",
      "y_train Shape:  (2263, 1)\n",
      "X_test Shape:   (260, 60, 1)\n",
      "y_test Shape:   (260, 1)\n"
     ]
    }
   ],
   "source": [
    "print('X_train Shape: ', X_train.shape)\n",
    "print('y_train Shape: ', y_train.shape)\n",
    "print('X_test Shape:  ', X_test.shape)\n",
    "print('y_test Shape:  ', y_test.shape)"
   ]
  },
  {
   "cell_type": "markdown",
   "id": "b3c20f7f",
   "metadata": {
    "papermill": {
     "duration": 0.023945,
     "end_time": "2023-01-13T21:38:57.693274",
     "exception": false,
     "start_time": "2023-01-13T21:38:57.669329",
     "status": "completed"
    },
    "tags": []
   },
   "source": [
    "# Creating an LSTM Network \n",
    "__We build an LSTM network, which is a type of Recurrent Neural Networks designed to solve vanishing gradient problem:__"
   ]
  },
  {
   "cell_type": "markdown",
   "id": "177b02b9",
   "metadata": {
    "papermill": {
     "duration": 0.023915,
     "end_time": "2023-01-13T21:38:57.741627",
     "exception": false,
     "start_time": "2023-01-13T21:38:57.717712",
     "status": "completed"
    },
    "tags": []
   },
   "source": [
    "__Model Definition:__"
   ]
  },
  {
   "cell_type": "code",
   "execution_count": 46,
   "id": "1ea25243",
   "metadata": {
    "execution": {
     "iopub.execute_input": "2023-01-13T21:38:57.792874Z",
     "iopub.status.busy": "2023-01-13T21:38:57.792048Z",
     "iopub.status.idle": "2023-01-13T21:38:57.800548Z",
     "shell.execute_reply": "2023-01-13T21:38:57.799390Z"
    },
    "papermill": {
     "duration": 0.036759,
     "end_time": "2023-01-13T21:38:57.802926",
     "exception": false,
     "start_time": "2023-01-13T21:38:57.766167",
     "status": "completed"
    },
    "tags": []
   },
   "outputs": [],
   "source": [
    "def define_model():\n",
    "    input1 = Input(shape=(window_size,1))\n",
    "    x = LSTM(units = 64, return_sequences=True)(input1)  \n",
    "    x = Dropout(0.2)(x)\n",
    "    x = LSTM(units = 64, return_sequences=True)(x)\n",
    "    x = Dropout(0.2)(x)\n",
    "    x = LSTM(units = 64)(x)\n",
    "    x = Dropout(0.2)(x)\n",
    "    x = Dense(32, activation='softmax')(x)\n",
    "    dnn_output = Dense(1)(x)\n",
    "\n",
    "    model = Model(inputs=input1, outputs=[dnn_output])\n",
    "    model.compile(loss='mean_squared_error', optimizer='Nadam')\n",
    "    model.summary()\n",
    "    \n",
    "    return model"
   ]
  },
  {
   "cell_type": "markdown",
   "id": "3067dfa7",
   "metadata": {
    "papermill": {
     "duration": 0.023992,
     "end_time": "2023-01-13T21:38:57.852038",
     "exception": false,
     "start_time": "2023-01-13T21:38:57.828046",
     "status": "completed"
    },
    "tags": []
   },
   "source": [
    "__Model Training:__"
   ]
  },
  {
   "cell_type": "code",
   "execution_count": 47,
   "id": "600e614a",
   "metadata": {
    "execution": {
     "iopub.execute_input": "2023-01-13T21:38:57.902942Z",
     "iopub.status.busy": "2023-01-13T21:38:57.902482Z",
     "iopub.status.idle": "2023-01-13T22:03:26.006978Z",
     "shell.execute_reply": "2023-01-13T22:03:26.005741Z"
    },
    "papermill": {
     "duration": 1468.133491,
     "end_time": "2023-01-13T22:03:26.009936",
     "exception": false,
     "start_time": "2023-01-13T21:38:57.876445",
     "status": "completed"
    },
    "tags": []
   },
   "outputs": [
    {
     "data": {
      "text/html": [
       "<pre style=\"white-space:pre;overflow-x:auto;line-height:normal;font-family:Menlo,'DejaVu Sans Mono',consolas,'Courier New',monospace\"><span style=\"font-weight: bold\">Model: \"functional_1\"</span>\n",
       "</pre>\n"
      ],
      "text/plain": [
       "\u001b[1mModel: \"functional_1\"\u001b[0m\n"
      ]
     },
     "metadata": {},
     "output_type": "display_data"
    },
    {
     "data": {
      "text/html": [
       "<pre style=\"white-space:pre;overflow-x:auto;line-height:normal;font-family:Menlo,'DejaVu Sans Mono',consolas,'Courier New',monospace\">┏━━━━━━━━━━━━━━━━━━━━━━━━━━━━━━━━━┳━━━━━━━━━━━━━━━━━━━━━━━━┳━━━━━━━━━━━━━━━┓\n",
       "┃<span style=\"font-weight: bold\"> Layer (type)                    </span>┃<span style=\"font-weight: bold\"> Output Shape           </span>┃<span style=\"font-weight: bold\">       Param # </span>┃\n",
       "┡━━━━━━━━━━━━━━━━━━━━━━━━━━━━━━━━━╇━━━━━━━━━━━━━━━━━━━━━━━━╇━━━━━━━━━━━━━━━┩\n",
       "│ input_layer (<span style=\"color: #0087ff; text-decoration-color: #0087ff\">InputLayer</span>)        │ (<span style=\"color: #00d7ff; text-decoration-color: #00d7ff\">None</span>, <span style=\"color: #00af00; text-decoration-color: #00af00\">60</span>, <span style=\"color: #00af00; text-decoration-color: #00af00\">1</span>)          │             <span style=\"color: #00af00; text-decoration-color: #00af00\">0</span> │\n",
       "├─────────────────────────────────┼────────────────────────┼───────────────┤\n",
       "│ lstm (<span style=\"color: #0087ff; text-decoration-color: #0087ff\">LSTM</span>)                     │ (<span style=\"color: #00d7ff; text-decoration-color: #00d7ff\">None</span>, <span style=\"color: #00af00; text-decoration-color: #00af00\">60</span>, <span style=\"color: #00af00; text-decoration-color: #00af00\">64</span>)         │        <span style=\"color: #00af00; text-decoration-color: #00af00\">16,896</span> │\n",
       "├─────────────────────────────────┼────────────────────────┼───────────────┤\n",
       "│ dropout (<span style=\"color: #0087ff; text-decoration-color: #0087ff\">Dropout</span>)               │ (<span style=\"color: #00d7ff; text-decoration-color: #00d7ff\">None</span>, <span style=\"color: #00af00; text-decoration-color: #00af00\">60</span>, <span style=\"color: #00af00; text-decoration-color: #00af00\">64</span>)         │             <span style=\"color: #00af00; text-decoration-color: #00af00\">0</span> │\n",
       "├─────────────────────────────────┼────────────────────────┼───────────────┤\n",
       "│ lstm_1 (<span style=\"color: #0087ff; text-decoration-color: #0087ff\">LSTM</span>)                   │ (<span style=\"color: #00d7ff; text-decoration-color: #00d7ff\">None</span>, <span style=\"color: #00af00; text-decoration-color: #00af00\">60</span>, <span style=\"color: #00af00; text-decoration-color: #00af00\">64</span>)         │        <span style=\"color: #00af00; text-decoration-color: #00af00\">33,024</span> │\n",
       "├─────────────────────────────────┼────────────────────────┼───────────────┤\n",
       "│ dropout_1 (<span style=\"color: #0087ff; text-decoration-color: #0087ff\">Dropout</span>)             │ (<span style=\"color: #00d7ff; text-decoration-color: #00d7ff\">None</span>, <span style=\"color: #00af00; text-decoration-color: #00af00\">60</span>, <span style=\"color: #00af00; text-decoration-color: #00af00\">64</span>)         │             <span style=\"color: #00af00; text-decoration-color: #00af00\">0</span> │\n",
       "├─────────────────────────────────┼────────────────────────┼───────────────┤\n",
       "│ lstm_2 (<span style=\"color: #0087ff; text-decoration-color: #0087ff\">LSTM</span>)                   │ (<span style=\"color: #00d7ff; text-decoration-color: #00d7ff\">None</span>, <span style=\"color: #00af00; text-decoration-color: #00af00\">64</span>)             │        <span style=\"color: #00af00; text-decoration-color: #00af00\">33,024</span> │\n",
       "├─────────────────────────────────┼────────────────────────┼───────────────┤\n",
       "│ dropout_2 (<span style=\"color: #0087ff; text-decoration-color: #0087ff\">Dropout</span>)             │ (<span style=\"color: #00d7ff; text-decoration-color: #00d7ff\">None</span>, <span style=\"color: #00af00; text-decoration-color: #00af00\">64</span>)             │             <span style=\"color: #00af00; text-decoration-color: #00af00\">0</span> │\n",
       "├─────────────────────────────────┼────────────────────────┼───────────────┤\n",
       "│ dense (<span style=\"color: #0087ff; text-decoration-color: #0087ff\">Dense</span>)                   │ (<span style=\"color: #00d7ff; text-decoration-color: #00d7ff\">None</span>, <span style=\"color: #00af00; text-decoration-color: #00af00\">32</span>)             │         <span style=\"color: #00af00; text-decoration-color: #00af00\">2,080</span> │\n",
       "├─────────────────────────────────┼────────────────────────┼───────────────┤\n",
       "│ dense_1 (<span style=\"color: #0087ff; text-decoration-color: #0087ff\">Dense</span>)                 │ (<span style=\"color: #00d7ff; text-decoration-color: #00d7ff\">None</span>, <span style=\"color: #00af00; text-decoration-color: #00af00\">1</span>)              │            <span style=\"color: #00af00; text-decoration-color: #00af00\">33</span> │\n",
       "└─────────────────────────────────┴────────────────────────┴───────────────┘\n",
       "</pre>\n"
      ],
      "text/plain": [
       "┏━━━━━━━━━━━━━━━━━━━━━━━━━━━━━━━━━┳━━━━━━━━━━━━━━━━━━━━━━━━┳━━━━━━━━━━━━━━━┓\n",
       "┃\u001b[1m \u001b[0m\u001b[1mLayer (type)                   \u001b[0m\u001b[1m \u001b[0m┃\u001b[1m \u001b[0m\u001b[1mOutput Shape          \u001b[0m\u001b[1m \u001b[0m┃\u001b[1m \u001b[0m\u001b[1m      Param #\u001b[0m\u001b[1m \u001b[0m┃\n",
       "┡━━━━━━━━━━━━━━━━━━━━━━━━━━━━━━━━━╇━━━━━━━━━━━━━━━━━━━━━━━━╇━━━━━━━━━━━━━━━┩\n",
       "│ input_layer (\u001b[38;5;33mInputLayer\u001b[0m)        │ (\u001b[38;5;45mNone\u001b[0m, \u001b[38;5;34m60\u001b[0m, \u001b[38;5;34m1\u001b[0m)          │             \u001b[38;5;34m0\u001b[0m │\n",
       "├─────────────────────────────────┼────────────────────────┼───────────────┤\n",
       "│ lstm (\u001b[38;5;33mLSTM\u001b[0m)                     │ (\u001b[38;5;45mNone\u001b[0m, \u001b[38;5;34m60\u001b[0m, \u001b[38;5;34m64\u001b[0m)         │        \u001b[38;5;34m16,896\u001b[0m │\n",
       "├─────────────────────────────────┼────────────────────────┼───────────────┤\n",
       "│ dropout (\u001b[38;5;33mDropout\u001b[0m)               │ (\u001b[38;5;45mNone\u001b[0m, \u001b[38;5;34m60\u001b[0m, \u001b[38;5;34m64\u001b[0m)         │             \u001b[38;5;34m0\u001b[0m │\n",
       "├─────────────────────────────────┼────────────────────────┼───────────────┤\n",
       "│ lstm_1 (\u001b[38;5;33mLSTM\u001b[0m)                   │ (\u001b[38;5;45mNone\u001b[0m, \u001b[38;5;34m60\u001b[0m, \u001b[38;5;34m64\u001b[0m)         │        \u001b[38;5;34m33,024\u001b[0m │\n",
       "├─────────────────────────────────┼────────────────────────┼───────────────┤\n",
       "│ dropout_1 (\u001b[38;5;33mDropout\u001b[0m)             │ (\u001b[38;5;45mNone\u001b[0m, \u001b[38;5;34m60\u001b[0m, \u001b[38;5;34m64\u001b[0m)         │             \u001b[38;5;34m0\u001b[0m │\n",
       "├─────────────────────────────────┼────────────────────────┼───────────────┤\n",
       "│ lstm_2 (\u001b[38;5;33mLSTM\u001b[0m)                   │ (\u001b[38;5;45mNone\u001b[0m, \u001b[38;5;34m64\u001b[0m)             │        \u001b[38;5;34m33,024\u001b[0m │\n",
       "├─────────────────────────────────┼────────────────────────┼───────────────┤\n",
       "│ dropout_2 (\u001b[38;5;33mDropout\u001b[0m)             │ (\u001b[38;5;45mNone\u001b[0m, \u001b[38;5;34m64\u001b[0m)             │             \u001b[38;5;34m0\u001b[0m │\n",
       "├─────────────────────────────────┼────────────────────────┼───────────────┤\n",
       "│ dense (\u001b[38;5;33mDense\u001b[0m)                   │ (\u001b[38;5;45mNone\u001b[0m, \u001b[38;5;34m32\u001b[0m)             │         \u001b[38;5;34m2,080\u001b[0m │\n",
       "├─────────────────────────────────┼────────────────────────┼───────────────┤\n",
       "│ dense_1 (\u001b[38;5;33mDense\u001b[0m)                 │ (\u001b[38;5;45mNone\u001b[0m, \u001b[38;5;34m1\u001b[0m)              │            \u001b[38;5;34m33\u001b[0m │\n",
       "└─────────────────────────────────┴────────────────────────┴───────────────┘\n"
      ]
     },
     "metadata": {},
     "output_type": "display_data"
    },
    {
     "data": {
      "text/html": [
       "<pre style=\"white-space:pre;overflow-x:auto;line-height:normal;font-family:Menlo,'DejaVu Sans Mono',consolas,'Courier New',monospace\"><span style=\"font-weight: bold\"> Total params: </span><span style=\"color: #00af00; text-decoration-color: #00af00\">85,057</span> (332.25 KB)\n",
       "</pre>\n"
      ],
      "text/plain": [
       "\u001b[1m Total params: \u001b[0m\u001b[38;5;34m85,057\u001b[0m (332.25 KB)\n"
      ]
     },
     "metadata": {},
     "output_type": "display_data"
    },
    {
     "data": {
      "text/html": [
       "<pre style=\"white-space:pre;overflow-x:auto;line-height:normal;font-family:Menlo,'DejaVu Sans Mono',consolas,'Courier New',monospace\"><span style=\"font-weight: bold\"> Trainable params: </span><span style=\"color: #00af00; text-decoration-color: #00af00\">85,057</span> (332.25 KB)\n",
       "</pre>\n"
      ],
      "text/plain": [
       "\u001b[1m Trainable params: \u001b[0m\u001b[38;5;34m85,057\u001b[0m (332.25 KB)\n"
      ]
     },
     "metadata": {},
     "output_type": "display_data"
    },
    {
     "data": {
      "text/html": [
       "<pre style=\"white-space:pre;overflow-x:auto;line-height:normal;font-family:Menlo,'DejaVu Sans Mono',consolas,'Courier New',monospace\"><span style=\"font-weight: bold\"> Non-trainable params: </span><span style=\"color: #00af00; text-decoration-color: #00af00\">0</span> (0.00 B)\n",
       "</pre>\n"
      ],
      "text/plain": [
       "\u001b[1m Non-trainable params: \u001b[0m\u001b[38;5;34m0\u001b[0m (0.00 B)\n"
      ]
     },
     "metadata": {},
     "output_type": "display_data"
    },
    {
     "name": "stdout",
     "output_type": "stream",
     "text": [
      "Epoch 1/150\n",
      "\u001b[1m64/64\u001b[0m \u001b[32m━━━━━━━━━━━━━━━━━━━━\u001b[0m\u001b[37m\u001b[0m \u001b[1m10s\u001b[0m 64ms/step - loss: 0.0746 - val_loss: 0.0712\n",
      "Epoch 2/150\n",
      "\u001b[1m64/64\u001b[0m \u001b[32m━━━━━━━━━━━━━━━━━━━━\u001b[0m\u001b[37m\u001b[0m \u001b[1m4s\u001b[0m 56ms/step - loss: 0.0127 - val_loss: 0.0311\n",
      "Epoch 3/150\n",
      "\u001b[1m64/64\u001b[0m \u001b[32m━━━━━━━━━━━━━━━━━━━━\u001b[0m\u001b[37m\u001b[0m \u001b[1m4s\u001b[0m 56ms/step - loss: 0.0081 - val_loss: 0.0131\n",
      "Epoch 4/150\n",
      "\u001b[1m64/64\u001b[0m \u001b[32m━━━━━━━━━━━━━━━━━━━━\u001b[0m\u001b[37m\u001b[0m \u001b[1m4s\u001b[0m 56ms/step - loss: 0.0047 - val_loss: 0.0054\n",
      "Epoch 5/150\n",
      "\u001b[1m64/64\u001b[0m \u001b[32m━━━━━━━━━━━━━━━━━━━━\u001b[0m\u001b[37m\u001b[0m \u001b[1m4s\u001b[0m 56ms/step - loss: 0.0035 - val_loss: 0.0024\n",
      "Epoch 6/150\n",
      "\u001b[1m64/64\u001b[0m \u001b[32m━━━━━━━━━━━━━━━━━━━━\u001b[0m\u001b[37m\u001b[0m \u001b[1m4s\u001b[0m 57ms/step - loss: 0.0027 - val_loss: 0.0023\n",
      "Epoch 7/150\n",
      "\u001b[1m64/64\u001b[0m \u001b[32m━━━━━━━━━━━━━━━━━━━━\u001b[0m\u001b[37m\u001b[0m \u001b[1m4s\u001b[0m 58ms/step - loss: 0.0020 - val_loss: 0.0031\n",
      "Epoch 8/150\n",
      "\u001b[1m64/64\u001b[0m \u001b[32m━━━━━━━━━━━━━━━━━━━━\u001b[0m\u001b[37m\u001b[0m \u001b[1m4s\u001b[0m 57ms/step - loss: 0.0015 - val_loss: 0.0053\n",
      "Epoch 9/150\n",
      "\u001b[1m64/64\u001b[0m \u001b[32m━━━━━━━━━━━━━━━━━━━━\u001b[0m\u001b[37m\u001b[0m \u001b[1m4s\u001b[0m 56ms/step - loss: 0.0014 - val_loss: 0.0062\n",
      "Epoch 10/150\n",
      "\u001b[1m64/64\u001b[0m \u001b[32m━━━━━━━━━━━━━━━━━━━━\u001b[0m\u001b[37m\u001b[0m \u001b[1m4s\u001b[0m 70ms/step - loss: 0.0013 - val_loss: 0.0037\n",
      "Epoch 11/150\n",
      "\u001b[1m64/64\u001b[0m \u001b[32m━━━━━━━━━━━━━━━━━━━━\u001b[0m\u001b[37m\u001b[0m \u001b[1m4s\u001b[0m 64ms/step - loss: 0.0013 - val_loss: 0.0100\n",
      "Epoch 12/150\n",
      "\u001b[1m64/64\u001b[0m \u001b[32m━━━━━━━━━━━━━━━━━━━━\u001b[0m\u001b[37m\u001b[0m \u001b[1m3s\u001b[0m 54ms/step - loss: 0.0012 - val_loss: 0.0082\n",
      "Epoch 13/150\n",
      "\u001b[1m64/64\u001b[0m \u001b[32m━━━━━━━━━━━━━━━━━━━━\u001b[0m\u001b[37m\u001b[0m \u001b[1m4s\u001b[0m 60ms/step - loss: 0.0011 - val_loss: 0.0116\n",
      "Epoch 14/150\n",
      "\u001b[1m64/64\u001b[0m \u001b[32m━━━━━━━━━━━━━━━━━━━━\u001b[0m\u001b[37m\u001b[0m \u001b[1m4s\u001b[0m 62ms/step - loss: 0.0011 - val_loss: 0.0090\n",
      "Epoch 15/150\n",
      "\u001b[1m64/64\u001b[0m \u001b[32m━━━━━━━━━━━━━━━━━━━━\u001b[0m\u001b[37m\u001b[0m \u001b[1m4s\u001b[0m 62ms/step - loss: 0.0010 - val_loss: 0.0017\n",
      "Epoch 16/150\n",
      "\u001b[1m64/64\u001b[0m \u001b[32m━━━━━━━━━━━━━━━━━━━━\u001b[0m\u001b[37m\u001b[0m \u001b[1m4s\u001b[0m 57ms/step - loss: 0.0010 - val_loss: 0.0059\n",
      "Epoch 17/150\n",
      "\u001b[1m64/64\u001b[0m \u001b[32m━━━━━━━━━━━━━━━━━━━━\u001b[0m\u001b[37m\u001b[0m \u001b[1m4s\u001b[0m 60ms/step - loss: 0.0011 - val_loss: 0.0013\n",
      "Epoch 18/150\n",
      "\u001b[1m64/64\u001b[0m \u001b[32m━━━━━━━━━━━━━━━━━━━━\u001b[0m\u001b[37m\u001b[0m \u001b[1m4s\u001b[0m 59ms/step - loss: 9.4435e-04 - val_loss: 0.0014\n",
      "Epoch 19/150\n",
      "\u001b[1m64/64\u001b[0m \u001b[32m━━━━━━━━━━━━━━━━━━━━\u001b[0m\u001b[37m\u001b[0m \u001b[1m4s\u001b[0m 56ms/step - loss: 9.1496e-04 - val_loss: 0.0014\n",
      "Epoch 20/150\n",
      "\u001b[1m64/64\u001b[0m \u001b[32m━━━━━━━━━━━━━━━━━━━━\u001b[0m\u001b[37m\u001b[0m \u001b[1m4s\u001b[0m 57ms/step - loss: 9.4580e-04 - val_loss: 0.0031\n",
      "Epoch 21/150\n",
      "\u001b[1m64/64\u001b[0m \u001b[32m━━━━━━━━━━━━━━━━━━━━\u001b[0m\u001b[37m\u001b[0m \u001b[1m4s\u001b[0m 58ms/step - loss: 8.2683e-04 - val_loss: 0.0014\n",
      "Epoch 22/150\n",
      "\u001b[1m64/64\u001b[0m \u001b[32m━━━━━━━━━━━━━━━━━━━━\u001b[0m\u001b[37m\u001b[0m \u001b[1m4s\u001b[0m 55ms/step - loss: 9.4069e-04 - val_loss: 0.0061\n",
      "Epoch 23/150\n",
      "\u001b[1m64/64\u001b[0m \u001b[32m━━━━━━━━━━━━━━━━━━━━\u001b[0m\u001b[37m\u001b[0m \u001b[1m7s\u001b[0m 77ms/step - loss: 8.1317e-04 - val_loss: 8.8318e-04\n",
      "Epoch 24/150\n",
      "\u001b[1m64/64\u001b[0m \u001b[32m━━━━━━━━━━━━━━━━━━━━\u001b[0m\u001b[37m\u001b[0m \u001b[1m5s\u001b[0m 74ms/step - loss: 7.2696e-04 - val_loss: 8.5149e-04\n",
      "Epoch 25/150\n",
      "\u001b[1m64/64\u001b[0m \u001b[32m━━━━━━━━━━━━━━━━━━━━\u001b[0m\u001b[37m\u001b[0m \u001b[1m4s\u001b[0m 59ms/step - loss: 7.1442e-04 - val_loss: 8.4538e-04\n",
      "Epoch 26/150\n",
      "\u001b[1m64/64\u001b[0m \u001b[32m━━━━━━━━━━━━━━━━━━━━\u001b[0m\u001b[37m\u001b[0m \u001b[1m4s\u001b[0m 59ms/step - loss: 8.3897e-04 - val_loss: 0.0023\n",
      "Epoch 27/150\n",
      "\u001b[1m64/64\u001b[0m \u001b[32m━━━━━━━━━━━━━━━━━━━━\u001b[0m\u001b[37m\u001b[0m \u001b[1m4s\u001b[0m 60ms/step - loss: 7.1366e-04 - val_loss: 0.0019\n",
      "Epoch 28/150\n",
      "\u001b[1m64/64\u001b[0m \u001b[32m━━━━━━━━━━━━━━━━━━━━\u001b[0m\u001b[37m\u001b[0m \u001b[1m4s\u001b[0m 58ms/step - loss: 7.1559e-04 - val_loss: 7.5132e-04\n",
      "Epoch 29/150\n",
      "\u001b[1m64/64\u001b[0m \u001b[32m━━━━━━━━━━━━━━━━━━━━\u001b[0m\u001b[37m\u001b[0m \u001b[1m4s\u001b[0m 60ms/step - loss: 6.4818e-04 - val_loss: 0.0059\n",
      "Epoch 30/150\n",
      "\u001b[1m64/64\u001b[0m \u001b[32m━━━━━━━━━━━━━━━━━━━━\u001b[0m\u001b[37m\u001b[0m \u001b[1m4s\u001b[0m 63ms/step - loss: 7.0568e-04 - val_loss: 7.1693e-04\n",
      "Epoch 31/150\n",
      "\u001b[1m64/64\u001b[0m \u001b[32m━━━━━━━━━━━━━━━━━━━━\u001b[0m\u001b[37m\u001b[0m \u001b[1m4s\u001b[0m 61ms/step - loss: 6.9139e-04 - val_loss: 7.6737e-04\n",
      "Epoch 32/150\n",
      "\u001b[1m64/64\u001b[0m \u001b[32m━━━━━━━━━━━━━━━━━━━━\u001b[0m\u001b[37m\u001b[0m \u001b[1m4s\u001b[0m 60ms/step - loss: 5.9577e-04 - val_loss: 0.0028\n",
      "Epoch 33/150\n",
      "\u001b[1m64/64\u001b[0m \u001b[32m━━━━━━━━━━━━━━━━━━━━\u001b[0m\u001b[37m\u001b[0m \u001b[1m5s\u001b[0m 71ms/step - loss: 5.7958e-04 - val_loss: 7.0034e-04\n",
      "Epoch 34/150\n",
      "\u001b[1m64/64\u001b[0m \u001b[32m━━━━━━━━━━━━━━━━━━━━\u001b[0m\u001b[37m\u001b[0m \u001b[1m4s\u001b[0m 58ms/step - loss: 6.9959e-04 - val_loss: 0.0014\n",
      "Epoch 35/150\n",
      "\u001b[1m64/64\u001b[0m \u001b[32m━━━━━━━━━━━━━━━━━━━━\u001b[0m\u001b[37m\u001b[0m \u001b[1m4s\u001b[0m 57ms/step - loss: 5.7090e-04 - val_loss: 7.5414e-04\n",
      "Epoch 36/150\n",
      "\u001b[1m64/64\u001b[0m \u001b[32m━━━━━━━━━━━━━━━━━━━━\u001b[0m\u001b[37m\u001b[0m \u001b[1m4s\u001b[0m 54ms/step - loss: 5.9101e-04 - val_loss: 9.7768e-04\n",
      "Epoch 37/150\n",
      "\u001b[1m64/64\u001b[0m \u001b[32m━━━━━━━━━━━━━━━━━━━━\u001b[0m\u001b[37m\u001b[0m \u001b[1m6s\u001b[0m 62ms/step - loss: 5.2648e-04 - val_loss: 6.4157e-04\n",
      "Epoch 38/150\n",
      "\u001b[1m64/64\u001b[0m \u001b[32m━━━━━━━━━━━━━━━━━━━━\u001b[0m\u001b[37m\u001b[0m \u001b[1m4s\u001b[0m 55ms/step - loss: 5.7259e-04 - val_loss: 8.0460e-04\n",
      "Epoch 39/150\n",
      "\u001b[1m64/64\u001b[0m \u001b[32m━━━━━━━━━━━━━━━━━━━━\u001b[0m\u001b[37m\u001b[0m \u001b[1m4s\u001b[0m 56ms/step - loss: 5.2532e-04 - val_loss: 0.0020\n",
      "Epoch 40/150\n",
      "\u001b[1m64/64\u001b[0m \u001b[32m━━━━━━━━━━━━━━━━━━━━\u001b[0m\u001b[37m\u001b[0m \u001b[1m4s\u001b[0m 57ms/step - loss: 5.2469e-04 - val_loss: 0.0014\n",
      "Epoch 41/150\n",
      "\u001b[1m64/64\u001b[0m \u001b[32m━━━━━━━━━━━━━━━━━━━━\u001b[0m\u001b[37m\u001b[0m \u001b[1m5s\u001b[0m 78ms/step - loss: 5.4568e-04 - val_loss: 8.5580e-04\n",
      "Epoch 42/150\n",
      "\u001b[1m64/64\u001b[0m \u001b[32m━━━━━━━━━━━━━━━━━━━━\u001b[0m\u001b[37m\u001b[0m \u001b[1m4s\u001b[0m 67ms/step - loss: 6.0759e-04 - val_loss: 6.4629e-04\n",
      "Epoch 43/150\n",
      "\u001b[1m64/64\u001b[0m \u001b[32m━━━━━━━━━━━━━━━━━━━━\u001b[0m\u001b[37m\u001b[0m \u001b[1m4s\u001b[0m 61ms/step - loss: 4.9816e-04 - val_loss: 7.3486e-04\n",
      "Epoch 44/150\n",
      "\u001b[1m64/64\u001b[0m \u001b[32m━━━━━━━━━━━━━━━━━━━━\u001b[0m\u001b[37m\u001b[0m \u001b[1m4s\u001b[0m 62ms/step - loss: 4.6540e-04 - val_loss: 0.0029\n",
      "Epoch 45/150\n",
      "\u001b[1m64/64\u001b[0m \u001b[32m━━━━━━━━━━━━━━━━━━━━\u001b[0m\u001b[37m\u001b[0m \u001b[1m4s\u001b[0m 61ms/step - loss: 4.6974e-04 - val_loss: 0.0013\n",
      "Epoch 46/150\n",
      "\u001b[1m64/64\u001b[0m \u001b[32m━━━━━━━━━━━━━━━━━━━━\u001b[0m\u001b[37m\u001b[0m \u001b[1m4s\u001b[0m 60ms/step - loss: 4.6336e-04 - val_loss: 0.0010\n",
      "Epoch 47/150\n",
      "\u001b[1m64/64\u001b[0m \u001b[32m━━━━━━━━━━━━━━━━━━━━\u001b[0m\u001b[37m\u001b[0m \u001b[1m4s\u001b[0m 60ms/step - loss: 4.3115e-04 - val_loss: 6.3099e-04\n",
      "Epoch 48/150\n",
      "\u001b[1m64/64\u001b[0m \u001b[32m━━━━━━━━━━━━━━━━━━━━\u001b[0m\u001b[37m\u001b[0m \u001b[1m4s\u001b[0m 60ms/step - loss: 5.0102e-04 - val_loss: 7.3691e-04\n",
      "Epoch 49/150\n",
      "\u001b[1m64/64\u001b[0m \u001b[32m━━━━━━━━━━━━━━━━━━━━\u001b[0m\u001b[37m\u001b[0m \u001b[1m4s\u001b[0m 59ms/step - loss: 4.9035e-04 - val_loss: 5.0694e-04\n",
      "Epoch 50/150\n",
      "\u001b[1m64/64\u001b[0m \u001b[32m━━━━━━━━━━━━━━━━━━━━\u001b[0m\u001b[37m\u001b[0m \u001b[1m4s\u001b[0m 60ms/step - loss: 5.2827e-04 - val_loss: 0.0013\n",
      "Epoch 51/150\n",
      "\u001b[1m64/64\u001b[0m \u001b[32m━━━━━━━━━━━━━━━━━━━━\u001b[0m\u001b[37m\u001b[0m \u001b[1m5s\u001b[0m 72ms/step - loss: 5.4792e-04 - val_loss: 0.0016\n",
      "Epoch 52/150\n",
      "\u001b[1m64/64\u001b[0m \u001b[32m━━━━━━━━━━━━━━━━━━━━\u001b[0m\u001b[37m\u001b[0m \u001b[1m4s\u001b[0m 55ms/step - loss: 4.6264e-04 - val_loss: 4.6608e-04\n",
      "Epoch 53/150\n",
      "\u001b[1m64/64\u001b[0m \u001b[32m━━━━━━━━━━━━━━━━━━━━\u001b[0m\u001b[37m\u001b[0m \u001b[1m4s\u001b[0m 56ms/step - loss: 4.2955e-04 - val_loss: 4.8212e-04\n",
      "Epoch 54/150\n",
      "\u001b[1m64/64\u001b[0m \u001b[32m━━━━━━━━━━━━━━━━━━━━\u001b[0m\u001b[37m\u001b[0m \u001b[1m3s\u001b[0m 54ms/step - loss: 4.7440e-04 - val_loss: 8.5950e-04\n",
      "Epoch 55/150\n",
      "\u001b[1m64/64\u001b[0m \u001b[32m━━━━━━━━━━━━━━━━━━━━\u001b[0m\u001b[37m\u001b[0m \u001b[1m4s\u001b[0m 56ms/step - loss: 4.5338e-04 - val_loss: 0.0014\n",
      "Epoch 56/150\n",
      "\u001b[1m64/64\u001b[0m \u001b[32m━━━━━━━━━━━━━━━━━━━━\u001b[0m\u001b[37m\u001b[0m \u001b[1m5s\u001b[0m 75ms/step - loss: 4.6666e-04 - val_loss: 4.2912e-04\n",
      "Epoch 57/150\n",
      "\u001b[1m64/64\u001b[0m \u001b[32m━━━━━━━━━━━━━━━━━━━━\u001b[0m\u001b[37m\u001b[0m \u001b[1m4s\u001b[0m 60ms/step - loss: 3.9919e-04 - val_loss: 4.3273e-04\n",
      "Epoch 58/150\n",
      "\u001b[1m64/64\u001b[0m \u001b[32m━━━━━━━━━━━━━━━━━━━━\u001b[0m\u001b[37m\u001b[0m \u001b[1m4s\u001b[0m 58ms/step - loss: 4.6401e-04 - val_loss: 5.0446e-04\n",
      "Epoch 59/150\n",
      "\u001b[1m64/64\u001b[0m \u001b[32m━━━━━━━━━━━━━━━━━━━━\u001b[0m\u001b[37m\u001b[0m \u001b[1m4s\u001b[0m 58ms/step - loss: 4.6404e-04 - val_loss: 0.0014\n",
      "Epoch 60/150\n",
      "\u001b[1m64/64\u001b[0m \u001b[32m━━━━━━━━━━━━━━━━━━━━\u001b[0m\u001b[37m\u001b[0m \u001b[1m4s\u001b[0m 60ms/step - loss: 4.0296e-04 - val_loss: 4.2838e-04\n",
      "Epoch 61/150\n",
      "\u001b[1m64/64\u001b[0m \u001b[32m━━━━━━━━━━━━━━━━━━━━\u001b[0m\u001b[37m\u001b[0m \u001b[1m4s\u001b[0m 65ms/step - loss: 4.2414e-04 - val_loss: 7.2359e-04\n",
      "Epoch 62/150\n",
      "\u001b[1m64/64\u001b[0m \u001b[32m━━━━━━━━━━━━━━━━━━━━\u001b[0m\u001b[37m\u001b[0m \u001b[1m4s\u001b[0m 63ms/step - loss: 4.4469e-04 - val_loss: 4.3071e-04\n",
      "Epoch 63/150\n",
      "\u001b[1m64/64\u001b[0m \u001b[32m━━━━━━━━━━━━━━━━━━━━\u001b[0m\u001b[37m\u001b[0m \u001b[1m5s\u001b[0m 80ms/step - loss: 4.0562e-04 - val_loss: 0.0018\n",
      "Epoch 64/150\n",
      "\u001b[1m64/64\u001b[0m \u001b[32m━━━━━━━━━━━━━━━━━━━━\u001b[0m\u001b[37m\u001b[0m \u001b[1m5s\u001b[0m 80ms/step - loss: 3.8728e-04 - val_loss: 4.6875e-04\n",
      "Epoch 65/150\n",
      "\u001b[1m64/64\u001b[0m \u001b[32m━━━━━━━━━━━━━━━━━━━━\u001b[0m\u001b[37m\u001b[0m \u001b[1m5s\u001b[0m 80ms/step - loss: 4.7685e-04 - val_loss: 0.0010\n",
      "Epoch 66/150\n",
      "\u001b[1m64/64\u001b[0m \u001b[32m━━━━━━━━━━━━━━━━━━━━\u001b[0m\u001b[37m\u001b[0m \u001b[1m5s\u001b[0m 74ms/step - loss: 3.6457e-04 - val_loss: 5.6849e-04\n",
      "Epoch 67/150\n",
      "\u001b[1m64/64\u001b[0m \u001b[32m━━━━━━━━━━━━━━━━━━━━\u001b[0m\u001b[37m\u001b[0m \u001b[1m4s\u001b[0m 59ms/step - loss: 4.1344e-04 - val_loss: 4.0883e-04\n",
      "Epoch 68/150\n",
      "\u001b[1m64/64\u001b[0m \u001b[32m━━━━━━━━━━━━━━━━━━━━\u001b[0m\u001b[37m\u001b[0m \u001b[1m4s\u001b[0m 61ms/step - loss: 4.1473e-04 - val_loss: 7.8592e-04\n",
      "Epoch 69/150\n",
      "\u001b[1m64/64\u001b[0m \u001b[32m━━━━━━━━━━━━━━━━━━━━\u001b[0m\u001b[37m\u001b[0m \u001b[1m4s\u001b[0m 61ms/step - loss: 3.7924e-04 - val_loss: 4.8550e-04\n",
      "Epoch 70/150\n",
      "\u001b[1m64/64\u001b[0m \u001b[32m━━━━━━━━━━━━━━━━━━━━\u001b[0m\u001b[37m\u001b[0m \u001b[1m4s\u001b[0m 59ms/step - loss: 4.2408e-04 - val_loss: 7.5801e-04\n",
      "Epoch 71/150\n",
      "\u001b[1m64/64\u001b[0m \u001b[32m━━━━━━━━━━━━━━━━━━━━\u001b[0m\u001b[37m\u001b[0m \u001b[1m4s\u001b[0m 61ms/step - loss: 4.3553e-04 - val_loss: 5.3457e-04\n",
      "Epoch 72/150\n",
      "\u001b[1m64/64\u001b[0m \u001b[32m━━━━━━━━━━━━━━━━━━━━\u001b[0m\u001b[37m\u001b[0m \u001b[1m4s\u001b[0m 61ms/step - loss: 4.0199e-04 - val_loss: 3.9277e-04\n",
      "Epoch 73/150\n",
      "\u001b[1m64/64\u001b[0m \u001b[32m━━━━━━━━━━━━━━━━━━━━\u001b[0m\u001b[37m\u001b[0m \u001b[1m4s\u001b[0m 59ms/step - loss: 4.0393e-04 - val_loss: 0.0011\n",
      "Epoch 74/150\n",
      "\u001b[1m64/64\u001b[0m \u001b[32m━━━━━━━━━━━━━━━━━━━━\u001b[0m\u001b[37m\u001b[0m \u001b[1m4s\u001b[0m 61ms/step - loss: 3.5901e-04 - val_loss: 0.0015\n",
      "Epoch 75/150\n",
      "\u001b[1m64/64\u001b[0m \u001b[32m━━━━━━━━━━━━━━━━━━━━\u001b[0m\u001b[37m\u001b[0m \u001b[1m4s\u001b[0m 60ms/step - loss: 3.8948e-04 - val_loss: 5.6589e-04\n",
      "Epoch 76/150\n",
      "\u001b[1m64/64\u001b[0m \u001b[32m━━━━━━━━━━━━━━━━━━━━\u001b[0m\u001b[37m\u001b[0m \u001b[1m4s\u001b[0m 59ms/step - loss: 4.4471e-04 - val_loss: 7.3790e-04\n",
      "Epoch 77/150\n",
      "\u001b[1m64/64\u001b[0m \u001b[32m━━━━━━━━━━━━━━━━━━━━\u001b[0m\u001b[37m\u001b[0m \u001b[1m4s\u001b[0m 61ms/step - loss: 4.0162e-04 - val_loss: 7.1657e-04\n",
      "Epoch 78/150\n",
      "\u001b[1m64/64\u001b[0m \u001b[32m━━━━━━━━━━━━━━━━━━━━\u001b[0m\u001b[37m\u001b[0m \u001b[1m4s\u001b[0m 55ms/step - loss: 3.6326e-04 - val_loss: 6.0337e-04\n",
      "Epoch 79/150\n",
      "\u001b[1m64/64\u001b[0m \u001b[32m━━━━━━━━━━━━━━━━━━━━\u001b[0m\u001b[37m\u001b[0m \u001b[1m4s\u001b[0m 55ms/step - loss: 3.7841e-04 - val_loss: 5.8807e-04\n",
      "Epoch 80/150\n",
      "\u001b[1m64/64\u001b[0m \u001b[32m━━━━━━━━━━━━━━━━━━━━\u001b[0m\u001b[37m\u001b[0m \u001b[1m4s\u001b[0m 58ms/step - loss: 3.8374e-04 - val_loss: 8.2532e-04\n",
      "Epoch 81/150\n",
      "\u001b[1m64/64\u001b[0m \u001b[32m━━━━━━━━━━━━━━━━━━━━\u001b[0m\u001b[37m\u001b[0m \u001b[1m4s\u001b[0m 54ms/step - loss: 3.3888e-04 - val_loss: 9.2958e-04\n",
      "Epoch 82/150\n",
      "\u001b[1m64/64\u001b[0m \u001b[32m━━━━━━━━━━━━━━━━━━━━\u001b[0m\u001b[37m\u001b[0m \u001b[1m4s\u001b[0m 56ms/step - loss: 3.5384e-04 - val_loss: 5.4054e-04\n",
      "Epoch 83/150\n",
      "\u001b[1m64/64\u001b[0m \u001b[32m━━━━━━━━━━━━━━━━━━━━\u001b[0m\u001b[37m\u001b[0m \u001b[1m4s\u001b[0m 55ms/step - loss: 3.5566e-04 - val_loss: 6.9236e-04\n",
      "Epoch 84/150\n",
      "\u001b[1m64/64\u001b[0m \u001b[32m━━━━━━━━━━━━━━━━━━━━\u001b[0m\u001b[37m\u001b[0m \u001b[1m4s\u001b[0m 55ms/step - loss: 3.5610e-04 - val_loss: 6.0386e-04\n",
      "Epoch 85/150\n",
      "\u001b[1m64/64\u001b[0m \u001b[32m━━━━━━━━━━━━━━━━━━━━\u001b[0m\u001b[37m\u001b[0m \u001b[1m4s\u001b[0m 58ms/step - loss: 3.8531e-04 - val_loss: 4.1013e-04\n",
      "Epoch 86/150\n",
      "\u001b[1m64/64\u001b[0m \u001b[32m━━━━━━━━━━━━━━━━━━━━\u001b[0m\u001b[37m\u001b[0m \u001b[1m4s\u001b[0m 57ms/step - loss: 3.2355e-04 - val_loss: 6.1869e-04\n",
      "Epoch 87/150\n",
      "\u001b[1m64/64\u001b[0m \u001b[32m━━━━━━━━━━━━━━━━━━━━\u001b[0m\u001b[37m\u001b[0m \u001b[1m3s\u001b[0m 54ms/step - loss: 3.1982e-04 - val_loss: 6.4718e-04\n",
      "Epoch 88/150\n",
      "\u001b[1m64/64\u001b[0m \u001b[32m━━━━━━━━━━━━━━━━━━━━\u001b[0m\u001b[37m\u001b[0m \u001b[1m4s\u001b[0m 59ms/step - loss: 3.7984e-04 - val_loss: 0.0013\n",
      "Epoch 89/150\n",
      "\u001b[1m64/64\u001b[0m \u001b[32m━━━━━━━━━━━━━━━━━━━━\u001b[0m\u001b[37m\u001b[0m \u001b[1m4s\u001b[0m 57ms/step - loss: 3.4677e-04 - val_loss: 4.4820e-04\n",
      "Epoch 90/150\n",
      "\u001b[1m64/64\u001b[0m \u001b[32m━━━━━━━━━━━━━━━━━━━━\u001b[0m\u001b[37m\u001b[0m \u001b[1m4s\u001b[0m 59ms/step - loss: 3.0840e-04 - val_loss: 0.0012\n",
      "Epoch 91/150\n",
      "\u001b[1m64/64\u001b[0m \u001b[32m━━━━━━━━━━━━━━━━━━━━\u001b[0m\u001b[37m\u001b[0m \u001b[1m4s\u001b[0m 59ms/step - loss: 3.4716e-04 - val_loss: 8.9238e-04\n",
      "Epoch 92/150\n",
      "\u001b[1m64/64\u001b[0m \u001b[32m━━━━━━━━━━━━━━━━━━━━\u001b[0m\u001b[37m\u001b[0m \u001b[1m4s\u001b[0m 57ms/step - loss: 3.5348e-04 - val_loss: 7.6324e-04\n",
      "Epoch 93/150\n",
      "\u001b[1m64/64\u001b[0m \u001b[32m━━━━━━━━━━━━━━━━━━━━\u001b[0m\u001b[37m\u001b[0m \u001b[1m4s\u001b[0m 57ms/step - loss: 3.7852e-04 - val_loss: 0.0019\n",
      "Epoch 94/150\n",
      "\u001b[1m64/64\u001b[0m \u001b[32m━━━━━━━━━━━━━━━━━━━━\u001b[0m\u001b[37m\u001b[0m \u001b[1m4s\u001b[0m 57ms/step - loss: 3.6598e-04 - val_loss: 6.4637e-04\n",
      "Epoch 95/150\n",
      "\u001b[1m64/64\u001b[0m \u001b[32m━━━━━━━━━━━━━━━━━━━━\u001b[0m\u001b[37m\u001b[0m \u001b[1m4s\u001b[0m 55ms/step - loss: 3.4592e-04 - val_loss: 9.4210e-04\n",
      "Epoch 96/150\n",
      "\u001b[1m64/64\u001b[0m \u001b[32m━━━━━━━━━━━━━━━━━━━━\u001b[0m\u001b[37m\u001b[0m \u001b[1m4s\u001b[0m 59ms/step - loss: 3.5096e-04 - val_loss: 8.5252e-04\n",
      "Epoch 97/150\n",
      "\u001b[1m64/64\u001b[0m \u001b[32m━━━━━━━━━━━━━━━━━━━━\u001b[0m\u001b[37m\u001b[0m \u001b[1m4s\u001b[0m 61ms/step - loss: 3.2911e-04 - val_loss: 9.6854e-04\n",
      "Epoch 98/150\n",
      "\u001b[1m64/64\u001b[0m \u001b[32m━━━━━━━━━━━━━━━━━━━━\u001b[0m\u001b[37m\u001b[0m \u001b[1m4s\u001b[0m 57ms/step - loss: 3.3270e-04 - val_loss: 4.4690e-04\n",
      "Epoch 99/150\n",
      "\u001b[1m64/64\u001b[0m \u001b[32m━━━━━━━━━━━━━━━━━━━━\u001b[0m\u001b[37m\u001b[0m \u001b[1m5s\u001b[0m 57ms/step - loss: 3.2478e-04 - val_loss: 7.2622e-04\n",
      "Epoch 100/150\n",
      "\u001b[1m64/64\u001b[0m \u001b[32m━━━━━━━━━━━━━━━━━━━━\u001b[0m\u001b[37m\u001b[0m \u001b[1m5s\u001b[0m 56ms/step - loss: 3.4950e-04 - val_loss: 4.3442e-04\n",
      "Epoch 101/150\n",
      "\u001b[1m64/64\u001b[0m \u001b[32m━━━━━━━━━━━━━━━━━━━━\u001b[0m\u001b[37m\u001b[0m \u001b[1m4s\u001b[0m 60ms/step - loss: 2.8414e-04 - val_loss: 0.0017\n",
      "Epoch 102/150\n",
      "\u001b[1m64/64\u001b[0m \u001b[32m━━━━━━━━━━━━━━━━━━━━\u001b[0m\u001b[37m\u001b[0m \u001b[1m4s\u001b[0m 63ms/step - loss: 3.5979e-04 - val_loss: 4.5914e-04\n",
      "Epoch 103/150\n",
      "\u001b[1m64/64\u001b[0m \u001b[32m━━━━━━━━━━━━━━━━━━━━\u001b[0m\u001b[37m\u001b[0m \u001b[1m4s\u001b[0m 58ms/step - loss: 3.3262e-04 - val_loss: 4.2527e-04\n",
      "Epoch 104/150\n",
      "\u001b[1m64/64\u001b[0m \u001b[32m━━━━━━━━━━━━━━━━━━━━\u001b[0m\u001b[37m\u001b[0m \u001b[1m4s\u001b[0m 57ms/step - loss: 3.4542e-04 - val_loss: 0.0010\n",
      "Epoch 105/150\n",
      "\u001b[1m64/64\u001b[0m \u001b[32m━━━━━━━━━━━━━━━━━━━━\u001b[0m\u001b[37m\u001b[0m \u001b[1m4s\u001b[0m 59ms/step - loss: 3.1187e-04 - val_loss: 8.0905e-04\n",
      "Epoch 106/150\n",
      "\u001b[1m64/64\u001b[0m \u001b[32m━━━━━━━━━━━━━━━━━━━━\u001b[0m\u001b[37m\u001b[0m \u001b[1m4s\u001b[0m 59ms/step - loss: 3.3515e-04 - val_loss: 8.0387e-04\n",
      "Epoch 107/150\n",
      "\u001b[1m64/64\u001b[0m \u001b[32m━━━━━━━━━━━━━━━━━━━━\u001b[0m\u001b[37m\u001b[0m \u001b[1m4s\u001b[0m 58ms/step - loss: 3.6641e-04 - val_loss: 5.4467e-04\n",
      "Epoch 108/150\n",
      "\u001b[1m64/64\u001b[0m \u001b[32m━━━━━━━━━━━━━━━━━━━━\u001b[0m\u001b[37m\u001b[0m \u001b[1m4s\u001b[0m 61ms/step - loss: 2.9963e-04 - val_loss: 4.3580e-04\n",
      "Epoch 109/150\n",
      "\u001b[1m64/64\u001b[0m \u001b[32m━━━━━━━━━━━━━━━━━━━━\u001b[0m\u001b[37m\u001b[0m \u001b[1m4s\u001b[0m 63ms/step - loss: 3.2190e-04 - val_loss: 0.0010\n",
      "Epoch 110/150\n",
      "\u001b[1m64/64\u001b[0m \u001b[32m━━━━━━━━━━━━━━━━━━━━\u001b[0m\u001b[37m\u001b[0m \u001b[1m5s\u001b[0m 75ms/step - loss: 3.3089e-04 - val_loss: 0.0016\n",
      "Epoch 111/150\n",
      "\u001b[1m64/64\u001b[0m \u001b[32m━━━━━━━━━━━━━━━━━━━━\u001b[0m\u001b[37m\u001b[0m \u001b[1m5s\u001b[0m 81ms/step - loss: 4.0462e-04 - val_loss: 4.9914e-04\n",
      "Epoch 112/150\n",
      "\u001b[1m64/64\u001b[0m \u001b[32m━━━━━━━━━━━━━━━━━━━━\u001b[0m\u001b[37m\u001b[0m \u001b[1m6s\u001b[0m 93ms/step - loss: 3.4031e-04 - val_loss: 0.0013\n",
      "Epoch 113/150\n",
      "\u001b[1m64/64\u001b[0m \u001b[32m━━━━━━━━━━━━━━━━━━━━\u001b[0m\u001b[37m\u001b[0m \u001b[1m5s\u001b[0m 73ms/step - loss: 3.2909e-04 - val_loss: 5.3706e-04\n",
      "Epoch 114/150\n",
      "\u001b[1m64/64\u001b[0m \u001b[32m━━━━━━━━━━━━━━━━━━━━\u001b[0m\u001b[37m\u001b[0m \u001b[1m4s\u001b[0m 65ms/step - loss: 3.2122e-04 - val_loss: 8.9577e-04\n",
      "Epoch 115/150\n",
      "\u001b[1m64/64\u001b[0m \u001b[32m━━━━━━━━━━━━━━━━━━━━\u001b[0m\u001b[37m\u001b[0m \u001b[1m4s\u001b[0m 62ms/step - loss: 3.3958e-04 - val_loss: 4.5599e-04\n",
      "Epoch 116/150\n",
      "\u001b[1m64/64\u001b[0m \u001b[32m━━━━━━━━━━━━━━━━━━━━\u001b[0m\u001b[37m\u001b[0m \u001b[1m4s\u001b[0m 65ms/step - loss: 3.6800e-04 - val_loss: 4.5133e-04\n",
      "Epoch 117/150\n",
      "\u001b[1m64/64\u001b[0m \u001b[32m━━━━━━━━━━━━━━━━━━━━\u001b[0m\u001b[37m\u001b[0m \u001b[1m4s\u001b[0m 60ms/step - loss: 3.4450e-04 - val_loss: 5.1973e-04\n",
      "Epoch 118/150\n",
      "\u001b[1m64/64\u001b[0m \u001b[32m━━━━━━━━━━━━━━━━━━━━\u001b[0m\u001b[37m\u001b[0m \u001b[1m4s\u001b[0m 63ms/step - loss: 2.9692e-04 - val_loss: 5.7168e-04\n",
      "Epoch 119/150\n",
      "\u001b[1m64/64\u001b[0m \u001b[32m━━━━━━━━━━━━━━━━━━━━\u001b[0m\u001b[37m\u001b[0m \u001b[1m4s\u001b[0m 59ms/step - loss: 3.3992e-04 - val_loss: 9.7960e-04\n",
      "Epoch 120/150\n",
      "\u001b[1m64/64\u001b[0m \u001b[32m━━━━━━━━━━━━━━━━━━━━\u001b[0m\u001b[37m\u001b[0m \u001b[1m5s\u001b[0m 71ms/step - loss: 3.2110e-04 - val_loss: 5.0380e-04\n",
      "Epoch 121/150\n",
      "\u001b[1m64/64\u001b[0m \u001b[32m━━━━━━━━━━━━━━━━━━━━\u001b[0m\u001b[37m\u001b[0m \u001b[1m4s\u001b[0m 64ms/step - loss: 3.0940e-04 - val_loss: 7.8327e-04\n",
      "Epoch 122/150\n",
      "\u001b[1m64/64\u001b[0m \u001b[32m━━━━━━━━━━━━━━━━━━━━\u001b[0m\u001b[37m\u001b[0m \u001b[1m5s\u001b[0m 83ms/step - loss: 3.0209e-04 - val_loss: 0.0018\n",
      "Epoch 123/150\n",
      "\u001b[1m64/64\u001b[0m \u001b[32m━━━━━━━━━━━━━━━━━━━━\u001b[0m\u001b[37m\u001b[0m \u001b[1m5s\u001b[0m 80ms/step - loss: 3.6144e-04 - val_loss: 4.6550e-04\n",
      "Epoch 124/150\n",
      "\u001b[1m64/64\u001b[0m \u001b[32m━━━━━━━━━━━━━━━━━━━━\u001b[0m\u001b[37m\u001b[0m \u001b[1m5s\u001b[0m 71ms/step - loss: 2.9995e-04 - val_loss: 7.3940e-04\n",
      "Epoch 125/150\n",
      "\u001b[1m64/64\u001b[0m \u001b[32m━━━━━━━━━━━━━━━━━━━━\u001b[0m\u001b[37m\u001b[0m \u001b[1m5s\u001b[0m 74ms/step - loss: 2.8297e-04 - val_loss: 3.5957e-04\n",
      "Epoch 126/150\n",
      "\u001b[1m64/64\u001b[0m \u001b[32m━━━━━━━━━━━━━━━━━━━━\u001b[0m\u001b[37m\u001b[0m \u001b[1m4s\u001b[0m 68ms/step - loss: 3.1005e-04 - val_loss: 0.0010\n",
      "Epoch 127/150\n",
      "\u001b[1m64/64\u001b[0m \u001b[32m━━━━━━━━━━━━━━━━━━━━\u001b[0m\u001b[37m\u001b[0m \u001b[1m4s\u001b[0m 68ms/step - loss: 3.5245e-04 - val_loss: 5.6299e-04\n",
      "Epoch 128/150\n",
      "\u001b[1m64/64\u001b[0m \u001b[32m━━━━━━━━━━━━━━━━━━━━\u001b[0m\u001b[37m\u001b[0m \u001b[1m4s\u001b[0m 67ms/step - loss: 2.9640e-04 - val_loss: 6.0053e-04\n",
      "Epoch 129/150\n",
      "\u001b[1m64/64\u001b[0m \u001b[32m━━━━━━━━━━━━━━━━━━━━\u001b[0m\u001b[37m\u001b[0m \u001b[1m4s\u001b[0m 65ms/step - loss: 2.8006e-04 - val_loss: 5.6299e-04\n",
      "Epoch 130/150\n",
      "\u001b[1m64/64\u001b[0m \u001b[32m━━━━━━━━━━━━━━━━━━━━\u001b[0m\u001b[37m\u001b[0m \u001b[1m4s\u001b[0m 64ms/step - loss: 2.8513e-04 - val_loss: 7.5816e-04\n",
      "Epoch 131/150\n",
      "\u001b[1m64/64\u001b[0m \u001b[32m━━━━━━━━━━━━━━━━━━━━\u001b[0m\u001b[37m\u001b[0m \u001b[1m4s\u001b[0m 65ms/step - loss: 3.1305e-04 - val_loss: 5.2145e-04\n",
      "Epoch 132/150\n",
      "\u001b[1m64/64\u001b[0m \u001b[32m━━━━━━━━━━━━━━━━━━━━\u001b[0m\u001b[37m\u001b[0m \u001b[1m4s\u001b[0m 68ms/step - loss: 3.1741e-04 - val_loss: 8.9672e-04\n",
      "Epoch 133/150\n",
      "\u001b[1m64/64\u001b[0m \u001b[32m━━━━━━━━━━━━━━━━━━━━\u001b[0m\u001b[37m\u001b[0m \u001b[1m4s\u001b[0m 68ms/step - loss: 3.0263e-04 - val_loss: 4.5188e-04\n",
      "Epoch 134/150\n",
      "\u001b[1m64/64\u001b[0m \u001b[32m━━━━━━━━━━━━━━━━━━━━\u001b[0m\u001b[37m\u001b[0m \u001b[1m4s\u001b[0m 65ms/step - loss: 3.0166e-04 - val_loss: 6.6963e-04\n",
      "Epoch 135/150\n",
      "\u001b[1m64/64\u001b[0m \u001b[32m━━━━━━━━━━━━━━━━━━━━\u001b[0m\u001b[37m\u001b[0m \u001b[1m4s\u001b[0m 65ms/step - loss: 3.1208e-04 - val_loss: 9.4908e-04\n",
      "Epoch 136/150\n",
      "\u001b[1m64/64\u001b[0m \u001b[32m━━━━━━━━━━━━━━━━━━━━\u001b[0m\u001b[37m\u001b[0m \u001b[1m5s\u001b[0m 75ms/step - loss: 2.9856e-04 - val_loss: 7.0424e-04\n",
      "Epoch 137/150\n",
      "\u001b[1m64/64\u001b[0m \u001b[32m━━━━━━━━━━━━━━━━━━━━\u001b[0m\u001b[37m\u001b[0m \u001b[1m4s\u001b[0m 58ms/step - loss: 3.2021e-04 - val_loss: 4.5987e-04\n",
      "Epoch 138/150\n",
      "\u001b[1m64/64\u001b[0m \u001b[32m━━━━━━━━━━━━━━━━━━━━\u001b[0m\u001b[37m\u001b[0m \u001b[1m4s\u001b[0m 56ms/step - loss: 2.8811e-04 - val_loss: 0.0010\n",
      "Epoch 139/150\n",
      "\u001b[1m64/64\u001b[0m \u001b[32m━━━━━━━━━━━━━━━━━━━━\u001b[0m\u001b[37m\u001b[0m \u001b[1m4s\u001b[0m 57ms/step - loss: 3.6686e-04 - val_loss: 4.2380e-04\n",
      "Epoch 140/150\n",
      "\u001b[1m64/64\u001b[0m \u001b[32m━━━━━━━━━━━━━━━━━━━━\u001b[0m\u001b[37m\u001b[0m \u001b[1m4s\u001b[0m 57ms/step - loss: 2.9299e-04 - val_loss: 7.3390e-04\n",
      "Epoch 141/150\n",
      "\u001b[1m64/64\u001b[0m \u001b[32m━━━━━━━━━━━━━━━━━━━━\u001b[0m\u001b[37m\u001b[0m \u001b[1m4s\u001b[0m 55ms/step - loss: 2.8637e-04 - val_loss: 9.3395e-04\n",
      "Epoch 142/150\n",
      "\u001b[1m64/64\u001b[0m \u001b[32m━━━━━━━━━━━━━━━━━━━━\u001b[0m\u001b[37m\u001b[0m \u001b[1m4s\u001b[0m 58ms/step - loss: 3.1130e-04 - val_loss: 6.2047e-04\n",
      "Epoch 143/150\n",
      "\u001b[1m64/64\u001b[0m \u001b[32m━━━━━━━━━━━━━━━━━━━━\u001b[0m\u001b[37m\u001b[0m \u001b[1m4s\u001b[0m 58ms/step - loss: 3.2035e-04 - val_loss: 6.4867e-04\n",
      "Epoch 144/150\n",
      "\u001b[1m64/64\u001b[0m \u001b[32m━━━━━━━━━━━━━━━━━━━━\u001b[0m\u001b[37m\u001b[0m \u001b[1m4s\u001b[0m 57ms/step - loss: 3.2008e-04 - val_loss: 9.8634e-04\n",
      "Epoch 145/150\n",
      "\u001b[1m64/64\u001b[0m \u001b[32m━━━━━━━━━━━━━━━━━━━━\u001b[0m\u001b[37m\u001b[0m \u001b[1m5s\u001b[0m 56ms/step - loss: 3.4282e-04 - val_loss: 9.2698e-04\n",
      "Epoch 146/150\n",
      "\u001b[1m64/64\u001b[0m \u001b[32m━━━━━━━━━━━━━━━━━━━━\u001b[0m\u001b[37m\u001b[0m \u001b[1m4s\u001b[0m 55ms/step - loss: 2.7534e-04 - val_loss: 9.3965e-04\n",
      "Epoch 147/150\n",
      "\u001b[1m64/64\u001b[0m \u001b[32m━━━━━━━━━━━━━━━━━━━━\u001b[0m\u001b[37m\u001b[0m \u001b[1m4s\u001b[0m 55ms/step - loss: 3.2041e-04 - val_loss: 0.0011\n",
      "Epoch 148/150\n",
      "\u001b[1m64/64\u001b[0m \u001b[32m━━━━━━━━━━━━━━━━━━━━\u001b[0m\u001b[37m\u001b[0m \u001b[1m4s\u001b[0m 66ms/step - loss: 2.9782e-04 - val_loss: 0.0024\n",
      "Epoch 149/150\n",
      "\u001b[1m64/64\u001b[0m \u001b[32m━━━━━━━━━━━━━━━━━━━━\u001b[0m\u001b[37m\u001b[0m \u001b[1m4s\u001b[0m 60ms/step - loss: 2.8775e-04 - val_loss: 6.5864e-04\n",
      "Epoch 150/150\n",
      "\u001b[1m64/64\u001b[0m \u001b[32m━━━━━━━━━━━━━━━━━━━━\u001b[0m\u001b[37m\u001b[0m \u001b[1m4s\u001b[0m 57ms/step - loss: 2.8079e-04 - val_loss: 9.3551e-04\n"
     ]
    }
   ],
   "source": [
    "model = define_model()\n",
    "history = model.fit(X_train, y_train, epochs=150, batch_size=32, validation_split=0.1, verbose=1)"
   ]
  },
  {
   "cell_type": "markdown",
   "id": "3568fdf2",
   "metadata": {
    "papermill": {
     "duration": 0.679958,
     "end_time": "2023-01-13T22:03:27.311138",
     "exception": false,
     "start_time": "2023-01-13T22:03:26.631180",
     "status": "completed"
    },
    "tags": []
   },
   "source": [
    "# Model Evaluation\n",
    "__Next, we evaluate our time series forecast using MAPE (Mean Absolute Percentage Error) metric:__"
   ]
  },
  {
   "cell_type": "code",
   "execution_count": 48,
   "id": "95b104fd",
   "metadata": {
    "execution": {
     "iopub.execute_input": "2023-01-13T22:03:28.631838Z",
     "iopub.status.busy": "2023-01-13T22:03:28.631090Z",
     "iopub.status.idle": "2023-01-13T22:03:30.811178Z",
     "shell.execute_reply": "2023-01-13T22:03:30.809938Z"
    },
    "papermill": {
     "duration": 2.876801,
     "end_time": "2023-01-13T22:03:30.813914",
     "exception": false,
     "start_time": "2023-01-13T22:03:27.937113",
     "status": "completed"
    },
    "tags": []
   },
   "outputs": [
    {
     "name": "stdout",
     "output_type": "stream",
     "text": [
      "\u001b[1m9/9\u001b[0m \u001b[32m━━━━━━━━━━━━━━━━━━━━\u001b[0m\u001b[37m\u001b[0m \u001b[1m0s\u001b[0m 38ms/step - loss: 8.9724e-04\n",
      "\u001b[1m9/9\u001b[0m \u001b[32m━━━━━━━━━━━━━━━━━━━━\u001b[0m\u001b[37m\u001b[0m \u001b[1m1s\u001b[0m 93ms/step\n"
     ]
    }
   ],
   "source": [
    "result = model.evaluate(X_test, y_test)\n",
    "y_pred = model.predict(X_test) "
   ]
  },
  {
   "cell_type": "code",
   "execution_count": 49,
   "id": "7bef4e88",
   "metadata": {
    "execution": {
     "iopub.execute_input": "2023-01-13T22:03:32.139606Z",
     "iopub.status.busy": "2023-01-13T22:03:32.138768Z",
     "iopub.status.idle": "2023-01-13T22:03:32.144412Z",
     "shell.execute_reply": "2023-01-13T22:03:32.143639Z"
    },
    "papermill": {
     "duration": 0.697714,
     "end_time": "2023-01-13T22:03:32.146690",
     "exception": false,
     "start_time": "2023-01-13T22:03:31.448976",
     "status": "completed"
    },
    "tags": []
   },
   "outputs": [],
   "source": [
    "MAPE = mean_absolute_percentage_error(y_test, y_pred)\n",
    "Accuracy = 1 - MAPE"
   ]
  },
  {
   "cell_type": "code",
   "execution_count": 50,
   "id": "3721530a",
   "metadata": {
    "execution": {
     "iopub.execute_input": "2023-01-13T22:03:33.399676Z",
     "iopub.status.busy": "2023-01-13T22:03:33.398845Z",
     "iopub.status.idle": "2023-01-13T22:03:33.405059Z",
     "shell.execute_reply": "2023-01-13T22:03:33.403683Z"
    },
    "papermill": {
     "duration": 0.634832,
     "end_time": "2023-01-13T22:03:33.407409",
     "exception": false,
     "start_time": "2023-01-13T22:03:32.772577",
     "status": "completed"
    },
    "tags": []
   },
   "outputs": [
    {
     "name": "stdout",
     "output_type": "stream",
     "text": [
      "Test Loss: 0.0011404815595597029\n",
      "Test MAPE: 0.03790873037787999\n",
      "Test Accuracy: 0.96209126962212\n"
     ]
    }
   ],
   "source": [
    "print(\"Test Loss:\", result)\n",
    "print(\"Test MAPE:\", MAPE)\n",
    "print(\"Test Accuracy:\", Accuracy)"
   ]
  },
  {
   "cell_type": "markdown",
   "id": "03413159",
   "metadata": {
    "papermill": {
     "duration": 0.630855,
     "end_time": "2023-01-13T22:03:34.722943",
     "exception": false,
     "start_time": "2023-01-13T22:03:34.092088",
     "status": "completed"
    },
    "tags": []
   },
   "source": [
    "# Visualizing the Final Result Using LightningChart"
   ]
  },
  {
   "cell_type": "markdown",
   "id": "bc540865",
   "metadata": {
    "papermill": {
     "duration": 0.690592,
     "end_time": "2023-01-13T22:03:36.071923",
     "exception": false,
     "start_time": "2023-01-13T22:03:35.381331",
     "status": "completed"
    },
    "tags": []
   },
   "source": [
    "__Returning the actual and predicted Price values to their primary scale:__"
   ]
  },
  {
   "cell_type": "code",
   "execution_count": 52,
   "id": "40cc3cfa",
   "metadata": {
    "execution": {
     "iopub.execute_input": "2023-01-13T22:03:37.409990Z",
     "iopub.status.busy": "2023-01-13T22:03:37.409501Z",
     "iopub.status.idle": "2023-01-13T22:03:37.415303Z",
     "shell.execute_reply": "2023-01-13T22:03:37.414234Z"
    },
    "papermill": {
     "duration": 0.700914,
     "end_time": "2023-01-13T22:03:37.417374",
     "exception": false,
     "start_time": "2023-01-13T22:03:36.716460",
     "status": "completed"
    },
    "tags": []
   },
   "outputs": [],
   "source": [
    "y_test_true = scaler.inverse_transform(y_test)\n",
    "y_test_pred = scaler.inverse_transform(y_pred)"
   ]
  },
  {
   "cell_type": "markdown",
   "id": "03d33700",
   "metadata": {
    "papermill": {
     "duration": 0.689811,
     "end_time": "2023-01-13T22:03:38.741150",
     "exception": false,
     "start_time": "2023-01-13T22:03:38.051339",
     "status": "completed"
    },
    "tags": []
   },
   "source": [
    "__Investigating the closeness of the prices predicted by the model to the actual prices:__"
   ]
  },
  {
   "cell_type": "code",
   "execution_count": 287,
   "id": "852df380",
   "metadata": {
    "execution": {
     "iopub.execute_input": "2023-01-13T22:03:40.002983Z",
     "iopub.status.busy": "2023-01-13T22:03:40.002558Z",
     "iopub.status.idle": "2023-01-13T22:03:40.402775Z",
     "shell.execute_reply": "2023-01-13T22:03:40.401658Z"
    },
    "papermill": {
     "duration": 1.024333,
     "end_time": "2023-01-13T22:03:40.405378",
     "exception": false,
     "start_time": "2023-01-13T22:03:39.381045",
     "status": "completed"
    },
    "tags": []
   },
   "outputs": [
    {
     "data": {
      "text/html": [
       "\n",
       "        <iframe\n",
       "            width=\"100%\"\n",
       "            height=\"600\"\n",
       "            src=\"http://localhost:61211\"\n",
       "            frameborder=\"0\"\n",
       "            allowfullscreen\n",
       "            \n",
       "        ></iframe>\n",
       "        "
      ],
      "text/plain": [
       "<IPython.lib.display.IFrame at 0x256800c7fb0>"
      ]
     },
     "execution_count": 287,
     "metadata": {},
     "output_type": "execute_result"
    },
    {
     "name": "stderr",
     "output_type": "stream",
     "text": [
      "127.0.0.1 - - [30/Jul/2024 10:12:38] \"GET / HTTP/1.1\" 200 -\n"
     ]
    }
   ],
   "source": [
    "from datetime import datetime\n",
    "\n",
    "# Setup chart\n",
    "chart = lc.ChartXY(\n",
    "    theme=lc.Themes.CyberSpace,\n",
    "    title='Model Performance on Gold Price Prediction'\n",
    ")\n",
    "\n",
    "# Create x-axis with DateTime formatting\n",
    "time_origin = datetime.now().timestamp() * 1000  # Using current time as origin\n",
    "x_axis = chart.get_default_x_axis()\n",
    "x_axis.set_tick_strategy('DateTime', time_origin=time_origin)\n",
    "x_axis.set_title('Date')\n",
    "\n",
    "# Create y-axis\n",
    "y_axis = chart.get_default_y_axis()\n",
    "y_axis.set_title('Price')\n",
    "\n",
    "# Convert dates to timestamps for plotting\n",
    "date_timestamps = df['Date'].apply(lambda x: x.timestamp() * 1000 - time_origin).tolist()\n",
    "\n",
    "# Inverse transform the data\n",
    "train_prices = scaler.inverse_transform(train_data)\n",
    "y_test_true_prices = scaler.inverse_transform(y_test)\n",
    "y_test_pred_prices = scaler.inverse_transform(y_pred)\n",
    "\n",
    "# Add line series for training data\n",
    "train_series = chart.add_line_series()\n",
    "train_series.add(x=date_timestamps[:-test_size], y=train_prices.flatten().tolist())\n",
    "train_series.set_name('Training Data')\n",
    "\n",
    "# Add line series for actual test data\n",
    "test_true_series = chart.add_line_series()\n",
    "test_true_series.add(x=date_timestamps[-test_size:], y=y_test_true_prices.flatten().tolist())\n",
    "test_true_series.set_name('Actual Test Data')\n",
    "\n",
    "# Add line series for predicted test data\n",
    "test_pred_series = chart.add_line_series()\n",
    "test_pred_series.add(x=date_timestamps[-test_size:], y=y_test_pred_prices.flatten().tolist())\n",
    "test_pred_series.set_name('Predicted Test Data')\n",
    "\n",
    "# Customize the appearance\n",
    "chart.add_legend().add(train_series).add(test_true_series).add(test_pred_series)\n",
    "\n",
    "# Open the chart\n",
    "chart.open()\n"
   ]
  },
  {
   "cell_type": "markdown",
   "id": "04e59c9d",
   "metadata": {
    "papermill": {
     "duration": 0.622483,
     "end_time": "2023-01-13T22:03:41.712535",
     "exception": false,
     "start_time": "2023-01-13T22:03:41.090052",
     "status": "completed"
    },
    "tags": []
   },
   "source": [
    "____\n",
    "# Conclusion:\n",
    "### As can be seen, the price predicted by the LSTM model follows the actual prices greatly! The value of Loss and Accuracy (1-MAPE) obtained on the test data also confirm the great performance of the model:\n",
    "\n",
    "## 🏆 Loss: 0.001\n",
    "## 🏆 Accuracy: 96%"
   ]
  }
 ],
 "metadata": {
  "kernelspec": {
   "display_name": "Python 3",
   "language": "python",
   "name": "python3"
  },
  "language_info": {
   "codemirror_mode": {
    "name": "ipython",
    "version": 3
   },
   "file_extension": ".py",
   "mimetype": "text/x-python",
   "name": "python",
   "nbconvert_exporter": "python",
   "pygments_lexer": "ipython3",
   "version": "3.12.2"
  },
  "papermill": {
   "default_parameters": {},
   "duration": 1508.433223,
   "end_time": "2023-01-13T22:03:46.377564",
   "environment_variables": {},
   "exception": null,
   "input_path": "__notebook__.ipynb",
   "output_path": "__notebook__.ipynb",
   "parameters": {},
   "start_time": "2023-01-13T21:38:37.944341",
   "version": "2.3.4"
  }
 },
 "nbformat": 4,
 "nbformat_minor": 5
}
